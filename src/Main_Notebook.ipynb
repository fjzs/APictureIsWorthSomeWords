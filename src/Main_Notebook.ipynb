{
 "cells": [
  {
   "cell_type": "code",
   "execution_count": 1,
   "id": "6fdab06d",
   "metadata": {},
   "outputs": [],
   "source": [
    "%%capture\n",
    "\n",
    "%load_ext autoreload\n",
    "%autoreload 2\n",
    "\n",
    "import pandas as pd\n",
    "import numpy as np\n",
    "from doc2img.dataloader import get_raw_dataset\n",
    "from doc2img.generating_images import generate_image\n",
    "from doc2img.summarization import get_summary\n",
    "from doc2img.clip_inference import get_pretrained_clip_scores\n",
    "import yaml\n",
    "import matplotlib.pyplot as plt"
   ]
  },
  {
   "cell_type": "code",
   "execution_count": 2,
   "id": "cb6c5baa",
   "metadata": {},
   "outputs": [],
   "source": [
    "config_file = 'config.yaml'\n",
    "\n",
    "with open(config_file) as cf_file:\n",
    "    config = yaml.safe_load( cf_file.read())"
   ]
  },
  {
   "cell_type": "code",
   "execution_count": 3,
   "id": "e898742e",
   "metadata": {},
   "outputs": [],
   "source": [
    "#reading all poems\n",
    "df = get_raw_dataset(\"poems\",-1)\n",
    "\n",
    "#selecting poems in the interesting folder\n",
    "df = df[df.topic == 'interesting_poems']"
   ]
  },
  {
   "cell_type": "code",
   "execution_count": 4,
   "id": "6a7c6379",
   "metadata": {},
   "outputs": [],
   "source": [
    "#generating summaries\n",
    "df = get_summary(df,6)"
   ]
  },
  {
   "cell_type": "code",
   "execution_count": 5,
   "id": "f574d8d5",
   "metadata": {},
   "outputs": [
    {
     "data": {
      "text/html": [
       "<div>\n",
       "<style scoped>\n",
       "    .dataframe tbody tr th:only-of-type {\n",
       "        vertical-align: middle;\n",
       "    }\n",
       "\n",
       "    .dataframe tbody tr th {\n",
       "        vertical-align: top;\n",
       "    }\n",
       "\n",
       "    .dataframe thead th {\n",
       "        text-align: right;\n",
       "    }\n",
       "</style>\n",
       "<table border=\"1\" class=\"dataframe\">\n",
       "  <thead>\n",
       "    <tr style=\"text-align: right;\">\n",
       "      <th></th>\n",
       "      <th>text</th>\n",
       "      <th>topic</th>\n",
       "      <th>summary</th>\n",
       "    </tr>\n",
       "  </thead>\n",
       "  <tbody>\n",
       "    <tr>\n",
       "      <th>3582</th>\n",
       "      <td>America has traded in his Mercedes\\nFor a beat...</td>\n",
       "      <td>interesting_poems</td>\n",
       "      <td>sign america bought ’ standing ”</td>\n",
       "    </tr>\n",
       "    <tr>\n",
       "      <th>3583</th>\n",
       "      <td>Look look look\\nIt is spring\\nGreenery and flo...</td>\n",
       "      <td>interesting_poems</td>\n",
       "      <td>lets look greenery oh hose rose</td>\n",
       "    </tr>\n",
       "    <tr>\n",
       "      <th>3584</th>\n",
       "      <td>I wrote this blessing to read at my Granddaugh...</td>\n",
       "      <td>interesting_poems</td>\n",
       "      <td>spirit wedding may rachel bless god</td>\n",
       "    </tr>\n",
       "    <tr>\n",
       "      <th>3585</th>\n",
       "      <td>(*when a young girl ventures out for her\\nfirs...</td>\n",
       "      <td>interesting_poems</td>\n",
       "      <td>young swimming went girl form class</td>\n",
       "    </tr>\n",
       "    <tr>\n",
       "      <th>3586</th>\n",
       "      <td>There was peace\\nbefore there was war\\nthat's ...</td>\n",
       "      <td>interesting_poems</td>\n",
       "      <td>ever refused men hell two war</td>\n",
       "    </tr>\n",
       "  </tbody>\n",
       "</table>\n",
       "</div>"
      ],
      "text/plain": [
       "                                                   text              topic  \\\n",
       "3582  America has traded in his Mercedes\\nFor a beat...  interesting_poems   \n",
       "3583  Look look look\\nIt is spring\\nGreenery and flo...  interesting_poems   \n",
       "3584  I wrote this blessing to read at my Granddaugh...  interesting_poems   \n",
       "3585  (*when a young girl ventures out for her\\nfirs...  interesting_poems   \n",
       "3586  There was peace\\nbefore there was war\\nthat's ...  interesting_poems   \n",
       "\n",
       "                                  summary  \n",
       "3582     sign america bought ’ standing ”  \n",
       "3583      lets look greenery oh hose rose  \n",
       "3584  spirit wedding may rachel bless god  \n",
       "3585  young swimming went girl form class  \n",
       "3586        ever refused men hell two war  "
      ]
     },
     "execution_count": 5,
     "metadata": {},
     "output_type": "execute_result"
    }
   ],
   "source": [
    "#printing summaries\n",
    "df"
   ]
  },
  {
   "cell_type": "code",
   "execution_count": 6,
   "id": "74893bfe",
   "metadata": {},
   "outputs": [
    {
     "data": {
      "application/vnd.jupyter.widget-view+json": {
       "model_id": "11f03d7cdce24374a30fe3c987626249",
       "version_major": 2,
       "version_minor": 0
      },
      "text/plain": [
       "  0%|          | 0/5 [00:00<?, ?it/s]"
      ]
     },
     "metadata": {},
     "output_type": "display_data"
    },
    {
     "data": {
      "application/vnd.jupyter.widget-view+json": {
       "model_id": "089fda121a8249bf8e71745042e8034d",
       "version_major": 2,
       "version_minor": 0
      },
      "text/plain": [
       "  0%|          | 0/5 [00:00<?, ?it/s]"
      ]
     },
     "metadata": {},
     "output_type": "display_data"
    },
    {
     "data": {
      "application/vnd.jupyter.widget-view+json": {
       "model_id": "68fe518d2f6e41d09e460c912a9cd1fe",
       "version_major": 2,
       "version_minor": 0
      },
      "text/plain": [
       "  0%|          | 0/5 [00:00<?, ?it/s]"
      ]
     },
     "metadata": {},
     "output_type": "display_data"
    },
    {
     "data": {
      "application/vnd.jupyter.widget-view+json": {
       "model_id": "6754eb18453a40dcb9702a5288e40c16",
       "version_major": 2,
       "version_minor": 0
      },
      "text/plain": [
       "  0%|          | 0/5 [00:00<?, ?it/s]"
      ]
     },
     "metadata": {},
     "output_type": "display_data"
    },
    {
     "data": {
      "application/vnd.jupyter.widget-view+json": {
       "model_id": "007a1ddb9be0448ba407564fe780ed5c",
       "version_major": 2,
       "version_minor": 0
      },
      "text/plain": [
       "  0%|          | 0/5 [00:00<?, ?it/s]"
      ]
     },
     "metadata": {},
     "output_type": "display_data"
    }
   ],
   "source": [
    "#generating and saving images\n",
    "df = generate_image(df)"
   ]
  },
  {
   "cell_type": "code",
   "execution_count": 7,
   "id": "ccc0b40c",
   "metadata": {},
   "outputs": [
    {
     "data": {
      "text/html": [
       "<div>\n",
       "<style scoped>\n",
       "    .dataframe tbody tr th:only-of-type {\n",
       "        vertical-align: middle;\n",
       "    }\n",
       "\n",
       "    .dataframe tbody tr th {\n",
       "        vertical-align: top;\n",
       "    }\n",
       "\n",
       "    .dataframe thead th {\n",
       "        text-align: right;\n",
       "    }\n",
       "</style>\n",
       "<table border=\"1\" class=\"dataframe\">\n",
       "  <thead>\n",
       "    <tr style=\"text-align: right;\">\n",
       "      <th></th>\n",
       "      <th>text</th>\n",
       "      <th>topic</th>\n",
       "      <th>summary</th>\n",
       "      <th>img_path</th>\n",
       "      <th>clip_scores</th>\n",
       "    </tr>\n",
       "  </thead>\n",
       "  <tbody>\n",
       "    <tr>\n",
       "      <th>3582</th>\n",
       "      <td>America has traded in his Mercedes\\nFor a beat...</td>\n",
       "      <td>interesting_poems</td>\n",
       "      <td>sign america bought ’ standing ”</td>\n",
       "      <td>experiment_1/0.jpg</td>\n",
       "      <td>20.356958</td>\n",
       "    </tr>\n",
       "    <tr>\n",
       "      <th>3583</th>\n",
       "      <td>Look look look\\nIt is spring\\nGreenery and flo...</td>\n",
       "      <td>interesting_poems</td>\n",
       "      <td>lets look greenery oh hose rose</td>\n",
       "      <td>experiment_1/1.jpg</td>\n",
       "      <td>25.225508</td>\n",
       "    </tr>\n",
       "    <tr>\n",
       "      <th>3584</th>\n",
       "      <td>I wrote this blessing to read at my Granddaugh...</td>\n",
       "      <td>interesting_poems</td>\n",
       "      <td>spirit wedding may rachel bless god</td>\n",
       "      <td>experiment_1/2.jpg</td>\n",
       "      <td>24.067461</td>\n",
       "    </tr>\n",
       "    <tr>\n",
       "      <th>3585</th>\n",
       "      <td>(*when a young girl ventures out for her\\nfirs...</td>\n",
       "      <td>interesting_poems</td>\n",
       "      <td>young swimming went girl form class</td>\n",
       "      <td>experiment_1/3.jpg</td>\n",
       "      <td>22.453581</td>\n",
       "    </tr>\n",
       "    <tr>\n",
       "      <th>3586</th>\n",
       "      <td>There was peace\\nbefore there was war\\nthat's ...</td>\n",
       "      <td>interesting_poems</td>\n",
       "      <td>ever refused men hell two war</td>\n",
       "      <td>experiment_1/4.jpg</td>\n",
       "      <td>20.112543</td>\n",
       "    </tr>\n",
       "  </tbody>\n",
       "</table>\n",
       "</div>"
      ],
      "text/plain": [
       "                                                   text              topic  \\\n",
       "3582  America has traded in his Mercedes\\nFor a beat...  interesting_poems   \n",
       "3583  Look look look\\nIt is spring\\nGreenery and flo...  interesting_poems   \n",
       "3584  I wrote this blessing to read at my Granddaugh...  interesting_poems   \n",
       "3585  (*when a young girl ventures out for her\\nfirs...  interesting_poems   \n",
       "3586  There was peace\\nbefore there was war\\nthat's ...  interesting_poems   \n",
       "\n",
       "                                  summary            img_path  clip_scores  \n",
       "3582     sign america bought ’ standing ”  experiment_1/0.jpg    20.356958  \n",
       "3583      lets look greenery oh hose rose  experiment_1/1.jpg    25.225508  \n",
       "3584  spirit wedding may rachel bless god  experiment_1/2.jpg    24.067461  \n",
       "3585  young swimming went girl form class  experiment_1/3.jpg    22.453581  \n",
       "3586        ever refused men hell two war  experiment_1/4.jpg    20.112543  "
      ]
     },
     "execution_count": 7,
     "metadata": {},
     "output_type": "execute_result"
    }
   ],
   "source": [
    "#Computing scores using CLIP (Only first 75 tokens of poems are used)\n",
    "get_pretrained_clip_scores(df)"
   ]
  }
 ],
 "metadata": {
  "kernelspec": {
   "display_name": "Python [conda env:pytorch_env] *",
   "language": "python",
   "name": "conda-env-pytorch_env-py"
  },
  "language_info": {
   "codemirror_mode": {
    "name": "ipython",
    "version": 3
   },
   "file_extension": ".py",
   "mimetype": "text/x-python",
   "name": "python",
   "nbconvert_exporter": "python",
   "pygments_lexer": "ipython3",
   "version": "3.8.12"
  }
 },
 "nbformat": 4,
 "nbformat_minor": 5
}
