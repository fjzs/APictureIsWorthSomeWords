{
 "cells": [
  {
   "cell_type": "code",
   "execution_count": 1,
   "source": [
    "# %%capture\n",
    "\n",
    "# %load_ext autoreload\n",
    "# %autoreload 2\n",
    "\n",
    "import pandas as pd\n",
    "import numpy as np\n",
    "import os\n",
    "os.environ['CUDA_VISIBLE_DEVICES']='1'\n",
    "# from doc2img.dataloader import get_raw_dataset\n",
    "# from doc2img.generating_images import generate_image\n",
    "# from doc2img.summarization import get_summary\n",
    "# from doc2img.clip_inference import get_pretrained_clip_scores\n",
    "import yaml\n",
    "import matplotlib.pyplot as plt\n",
    "import cv2"
   ],
   "outputs": [],
   "metadata": {}
  },
  {
   "cell_type": "code",
   "execution_count": 2,
   "source": [
    "config_file = 'config.yaml'\n",
    "with open(config_file) as cf_file:\n",
    "    config = yaml.safe_load(cf_file.read())"
   ],
   "outputs": [],
   "metadata": {}
  },
  {
   "cell_type": "code",
   "execution_count": null,
   "source": [
    "DATASET_TYPE = \"stories\" # 'poems', 'nyt', 'stories\n",
    "dataset_path_mini = config['datasets'][DATASET_TYPE + '_mini']\n",
    "dataset_path_full = config['datasets'][DATASET_TYPE + '_full']\n",
    "df_mini = get_raw_dataset(DATASET_TYPE, dataset_path_mini, max_examples=None)\n",
    "df_full = get_raw_dataset(DATASET_TYPE, dataset_path_full, max_examples=None)"
   ],
   "outputs": [],
   "metadata": {}
  },
  {
   "cell_type": "code",
   "execution_count": null,
   "source": [
    "print(\"Summarization method : \", config['summary_method'])"
   ],
   "outputs": [],
   "metadata": {}
  },
  {
   "cell_type": "code",
   "execution_count": null,
   "source": [
    "#generating summaries\n",
    "df = get_summary(df_full, df_mini, config)"
   ],
   "outputs": [],
   "metadata": {}
  },
  {
   "cell_type": "code",
   "execution_count": null,
   "source": [
    "#printing summaries\n",
    "df.head()"
   ],
   "outputs": [],
   "metadata": {}
  },
  {
   "cell_type": "code",
   "execution_count": null,
   "source": [
    "from doc2img.generating_images import generate_image"
   ],
   "outputs": [],
   "metadata": {}
  },
  {
   "cell_type": "code",
   "execution_count": null,
   "source": [
    "# #generating and saving images\n",
    "df = generate_image(df[:2], config['prompts'])"
   ],
   "outputs": [],
   "metadata": {}
  },
  {
   "cell_type": "code",
   "execution_count": null,
   "source": [
    "#Computing scores using CLIP (Only first 75 tokens of poems are used)\n",
    "from doc2img.clip_inference import get_pretrained_clip_scores\n",
    "get_pretrained_clip_scores(df)"
   ],
   "outputs": [],
   "metadata": {}
  },
  {
   "cell_type": "code",
   "execution_count": null,
   "source": [
    "save_folder = config['image_generation']['save_folder']\n",
    "# reading images\n",
    "final_index = dataset + \"_\" + str(index) + \"_prompt_0\"\n",
    "save_path_0 = os.path.join(save_folder,str(final_index) +'.jpg')\n",
    "Image0 = cv2.imread(save_path_0)"
   ],
   "outputs": [],
   "metadata": {}
  },
  {
   "cell_type": "code",
   "execution_count": null,
   "source": [
    "def visualize_images(dataset, index):\n",
    "    # create figure\n",
    "    fig = plt.figure(figsize=(10, 7))\n",
    "    \n",
    "    # Assuming only 4 prompts\n",
    "    rows = 2\n",
    "    columns = 2\n",
    "\n",
    "    save_folder = config['image_generation']['save_folder']\n",
    "    \n",
    "    # reading images\n",
    "    final_index = dataset + \"_\" + str(index) + \"_prompt_0\"\n",
    "    save_path_0 = os.path.join(save_folder,str(final_index) +'.jpg')\n",
    "    Image0 = cv2.imread(save_path_0)\n",
    "\n",
    "    final_index = dataset + \"_\" + str(index) + \"_prompt_1\"\n",
    "    save_path_1 = os.path.join(save_folder,str(final_index) +'.jpg')\n",
    "    Image1 = cv2.imread(save_path_1)\n",
    "\n",
    "    final_index = dataset + \"_\" + str(index) + \"_prompt_2\"\n",
    "    save_path_2 = os.path.join(save_folder,str(final_index) +'.jpg')\n",
    "    Image2 = cv2.imread(save_path_2)\n",
    "\n",
    "    final_index = dataset + \"_\" + str(index) + \"_prompt_3\"\n",
    "    save_path_3 = os.path.join(save_folder,str(final_index) +'.jpg')\n",
    "    Image3 = cv2.imread(save_path_3)\n",
    "\n",
    "    \n",
    "    # Adds a subplot at the 1st position\n",
    "    fig.add_subplot(rows, columns, 1)\n",
    "    \n",
    "    # showing image\n",
    "    plt.imshow(Image0)\n",
    "    plt.axis('off')\n",
    "    plt.title(config['prompts'][0])\n",
    "    \n",
    "    # Adds a subplot at the 2nd position\n",
    "    fig.add_subplot(rows, columns, 2)\n",
    "    \n",
    "    # showing image\n",
    "    plt.imshow(Image1)\n",
    "    plt.axis('off')\n",
    "    plt.title(config['prompts'][1])\n",
    "    \n",
    "    # Adds a subplot at the 3rd position\n",
    "    fig.add_subplot(rows, columns, 3)\n",
    "    \n",
    "    # showing image\n",
    "    plt.imshow(Image2)\n",
    "    plt.axis('off')\n",
    "    plt.title(config['prompts'][2])\n",
    "    \n",
    "    # Adds a subplot at the 4th position\n",
    "    fig.add_subplot(rows, columns, 4)\n",
    "    \n",
    "    # showing image\n",
    "    plt.imshow(Image3)\n",
    "    plt.axis('off')\n",
    "    plt.title(config['prompts'][3])"
   ],
   "outputs": [],
   "metadata": {}
  },
  {
   "cell_type": "code",
   "execution_count": null,
   "source": [
    "visualize_images(\"poems\", 0)"
   ],
   "outputs": [],
   "metadata": {}
  },
  {
   "cell_type": "markdown",
   "source": [
    "### Sample Analysis"
   ],
   "metadata": {}
  },
  {
   "cell_type": "code",
   "execution_count": 3,
   "source": [
    "config['prompts']"
   ],
   "outputs": [
    {
     "output_type": "execute_result",
     "data": {
      "text/plain": [
       "['',\n",
       " 'A high resolution photo of ',\n",
       " 'An image illustrating ',\n",
       " 'Create an image inspired by ',\n",
       " 'Generate an artistic interpretation of the text ',\n",
       " 'Imagine an illustration that captures the central theme of the text ',\n",
       " 'A realistic image of ',\n",
       " 'Create an abstract artwork captures the essence of the following: ']"
      ]
     },
     "metadata": {},
     "execution_count": 3
    }
   ],
   "metadata": {}
  },
  {
   "cell_type": "code",
   "execution_count": 4,
   "source": [
    "df = pd.read_csv(\"experiment_pegasus_nyt/df.csv\")\n",
    "df.head(3)"
   ],
   "outputs": [
    {
     "output_type": "execute_result",
     "data": {
      "text/plain": [
       "                                                text     topic  \\\n",
       "0  One of China’s biggest threats to an American ...  no topic   \n",
       "1  BALTIMORE — The sky was still dark, and the ra...  no topic   \n",
       "2  Cecily Koppuzha’s parents were introduced to L...  no topic   \n",
       "\n",
       "                                             summary  \\\n",
       "0  One of China’s biggest threats to an American ...   \n",
       "1  Nyquist and Exaggerator will meet again in the...   \n",
       "2  A young couple who fell in love after an ice s...   \n",
       "\n",
       "                                    prompt_0  \\\n",
       "0  experiment_pegasus_nyt/nyt_0_prompt_0.jpg   \n",
       "1  experiment_pegasus_nyt/nyt_1_prompt_0.jpg   \n",
       "2  experiment_pegasus_nyt/nyt_2_prompt_0.jpg   \n",
       "\n",
       "                                    prompt_1  \\\n",
       "0  experiment_pegasus_nyt/nyt_0_prompt_1.jpg   \n",
       "1  experiment_pegasus_nyt/nyt_1_prompt_1.jpg   \n",
       "2  experiment_pegasus_nyt/nyt_2_prompt_1.jpg   \n",
       "\n",
       "                                    prompt_2  \\\n",
       "0  experiment_pegasus_nyt/nyt_0_prompt_2.jpg   \n",
       "1  experiment_pegasus_nyt/nyt_1_prompt_2.jpg   \n",
       "2  experiment_pegasus_nyt/nyt_2_prompt_2.jpg   \n",
       "\n",
       "                                    prompt_3  \\\n",
       "0  experiment_pegasus_nyt/nyt_0_prompt_3.jpg   \n",
       "1  experiment_pegasus_nyt/nyt_1_prompt_3.jpg   \n",
       "2  experiment_pegasus_nyt/nyt_2_prompt_3.jpg   \n",
       "\n",
       "                                    prompt_4  \\\n",
       "0  experiment_pegasus_nyt/nyt_0_prompt_4.jpg   \n",
       "1  experiment_pegasus_nyt/nyt_1_prompt_4.jpg   \n",
       "2  experiment_pegasus_nyt/nyt_2_prompt_4.jpg   \n",
       "\n",
       "                                    prompt_5  \\\n",
       "0  experiment_pegasus_nyt/nyt_0_prompt_5.jpg   \n",
       "1  experiment_pegasus_nyt/nyt_1_prompt_5.jpg   \n",
       "2  experiment_pegasus_nyt/nyt_2_prompt_5.jpg   \n",
       "\n",
       "                                    prompt_6  \\\n",
       "0  experiment_pegasus_nyt/nyt_0_prompt_6.jpg   \n",
       "1  experiment_pegasus_nyt/nyt_1_prompt_6.jpg   \n",
       "2  experiment_pegasus_nyt/nyt_2_prompt_6.jpg   \n",
       "\n",
       "                                    prompt_7  \\\n",
       "0  experiment_pegasus_nyt/nyt_0_prompt_7.jpg   \n",
       "1  experiment_pegasus_nyt/nyt_1_prompt_7.jpg   \n",
       "2  experiment_pegasus_nyt/nyt_2_prompt_7.jpg   \n",
       "\n",
       "                                      prompt_0_score  \\\n",
       "0  [24.177682876586914, 22.524939219156902, 22.84...   \n",
       "1  [27.828628540039062, 24.94461003939311, 24.964...   \n",
       "2  [27.608484268188477, 16.857530152356183, 16.93...   \n",
       "\n",
       "                                      prompt_1_score  \\\n",
       "0  [25.80782127380371, 21.617602878146702, 21.837...   \n",
       "1  [28.117549896240234, 25.120463927586872, 24.94...   \n",
       "2  [31.590328216552734, 18.486857149336075, 18.02...   \n",
       "\n",
       "                                      prompt_2_score  \\\n",
       "0  [22.480173110961914, 19.27720218234592, 19.365...   \n",
       "1  [28.12993812561035, 24.705839316050213, 24.757...   \n",
       "2  [25.24636459350586, 14.953857386553729, 15.203...   \n",
       "\n",
       "                                      prompt_3_score  \\\n",
       "0  [20.33639907836914, 18.58464241027832, 18.6893...   \n",
       "1  [27.48624038696289, 24.469451983769734, 24.460...   \n",
       "2  [27.496654510498047, 17.48060915205214, 17.281...   \n",
       "\n",
       "                                      prompt_4_score  \\\n",
       "0  [21.39822006225586, 18.979765997992622, 19.150...   \n",
       "1  [25.538259506225586, 22.945818821589153, 22.80...   \n",
       "2  [27.25367546081543, 19.223290390438503, 19.357...   \n",
       "\n",
       "                                      prompt_5_score  \\\n",
       "0  [19.91192626953125, 18.423782772488064, 18.148...   \n",
       "1  [28.1217098236084, 24.93673276901245, 24.82096...   \n",
       "2  [23.65201187133789, 19.47159062491523, 19.7186...   \n",
       "\n",
       "                                      prompt_6_score  \\\n",
       "0  [21.9417667388916, 20.63733461168077, 20.80861...   \n",
       "1  [26.651161193847656, 25.099448204040527, 25.18...   \n",
       "2  [23.63893699645996, 19.315801832411026, 19.198...   \n",
       "\n",
       "                                      prompt_7_score  \n",
       "0  [23.093164443969727, 21.617160161336262, 21.81...  \n",
       "1  [27.522563934326172, 24.252588907877605, 24.34...  \n",
       "2  [22.024520874023438, 17.72787414656745, 17.779...  "
      ],
      "text/html": [
       "<div>\n",
       "<style scoped>\n",
       "    .dataframe tbody tr th:only-of-type {\n",
       "        vertical-align: middle;\n",
       "    }\n",
       "\n",
       "    .dataframe tbody tr th {\n",
       "        vertical-align: top;\n",
       "    }\n",
       "\n",
       "    .dataframe thead th {\n",
       "        text-align: right;\n",
       "    }\n",
       "</style>\n",
       "<table border=\"1\" class=\"dataframe\">\n",
       "  <thead>\n",
       "    <tr style=\"text-align: right;\">\n",
       "      <th></th>\n",
       "      <th>text</th>\n",
       "      <th>topic</th>\n",
       "      <th>summary</th>\n",
       "      <th>prompt_0</th>\n",
       "      <th>prompt_1</th>\n",
       "      <th>prompt_2</th>\n",
       "      <th>prompt_3</th>\n",
       "      <th>prompt_4</th>\n",
       "      <th>prompt_5</th>\n",
       "      <th>prompt_6</th>\n",
       "      <th>prompt_7</th>\n",
       "      <th>prompt_0_score</th>\n",
       "      <th>prompt_1_score</th>\n",
       "      <th>prompt_2_score</th>\n",
       "      <th>prompt_3_score</th>\n",
       "      <th>prompt_4_score</th>\n",
       "      <th>prompt_5_score</th>\n",
       "      <th>prompt_6_score</th>\n",
       "      <th>prompt_7_score</th>\n",
       "    </tr>\n",
       "  </thead>\n",
       "  <tbody>\n",
       "    <tr>\n",
       "      <th>0</th>\n",
       "      <td>One of China’s biggest threats to an American ...</td>\n",
       "      <td>no topic</td>\n",
       "      <td>One of China’s biggest threats to an American ...</td>\n",
       "      <td>experiment_pegasus_nyt/nyt_0_prompt_0.jpg</td>\n",
       "      <td>experiment_pegasus_nyt/nyt_0_prompt_1.jpg</td>\n",
       "      <td>experiment_pegasus_nyt/nyt_0_prompt_2.jpg</td>\n",
       "      <td>experiment_pegasus_nyt/nyt_0_prompt_3.jpg</td>\n",
       "      <td>experiment_pegasus_nyt/nyt_0_prompt_4.jpg</td>\n",
       "      <td>experiment_pegasus_nyt/nyt_0_prompt_5.jpg</td>\n",
       "      <td>experiment_pegasus_nyt/nyt_0_prompt_6.jpg</td>\n",
       "      <td>experiment_pegasus_nyt/nyt_0_prompt_7.jpg</td>\n",
       "      <td>[24.177682876586914, 22.524939219156902, 22.84...</td>\n",
       "      <td>[25.80782127380371, 21.617602878146702, 21.837...</td>\n",
       "      <td>[22.480173110961914, 19.27720218234592, 19.365...</td>\n",
       "      <td>[20.33639907836914, 18.58464241027832, 18.6893...</td>\n",
       "      <td>[21.39822006225586, 18.979765997992622, 19.150...</td>\n",
       "      <td>[19.91192626953125, 18.423782772488064, 18.148...</td>\n",
       "      <td>[21.9417667388916, 20.63733461168077, 20.80861...</td>\n",
       "      <td>[23.093164443969727, 21.617160161336262, 21.81...</td>\n",
       "    </tr>\n",
       "    <tr>\n",
       "      <th>1</th>\n",
       "      <td>BALTIMORE — The sky was still dark, and the ra...</td>\n",
       "      <td>no topic</td>\n",
       "      <td>Nyquist and Exaggerator will meet again in the...</td>\n",
       "      <td>experiment_pegasus_nyt/nyt_1_prompt_0.jpg</td>\n",
       "      <td>experiment_pegasus_nyt/nyt_1_prompt_1.jpg</td>\n",
       "      <td>experiment_pegasus_nyt/nyt_1_prompt_2.jpg</td>\n",
       "      <td>experiment_pegasus_nyt/nyt_1_prompt_3.jpg</td>\n",
       "      <td>experiment_pegasus_nyt/nyt_1_prompt_4.jpg</td>\n",
       "      <td>experiment_pegasus_nyt/nyt_1_prompt_5.jpg</td>\n",
       "      <td>experiment_pegasus_nyt/nyt_1_prompt_6.jpg</td>\n",
       "      <td>experiment_pegasus_nyt/nyt_1_prompt_7.jpg</td>\n",
       "      <td>[27.828628540039062, 24.94461003939311, 24.964...</td>\n",
       "      <td>[28.117549896240234, 25.120463927586872, 24.94...</td>\n",
       "      <td>[28.12993812561035, 24.705839316050213, 24.757...</td>\n",
       "      <td>[27.48624038696289, 24.469451983769734, 24.460...</td>\n",
       "      <td>[25.538259506225586, 22.945818821589153, 22.80...</td>\n",
       "      <td>[28.1217098236084, 24.93673276901245, 24.82096...</td>\n",
       "      <td>[26.651161193847656, 25.099448204040527, 25.18...</td>\n",
       "      <td>[27.522563934326172, 24.252588907877605, 24.34...</td>\n",
       "    </tr>\n",
       "    <tr>\n",
       "      <th>2</th>\n",
       "      <td>Cecily Koppuzha’s parents were introduced to L...</td>\n",
       "      <td>no topic</td>\n",
       "      <td>A young couple who fell in love after an ice s...</td>\n",
       "      <td>experiment_pegasus_nyt/nyt_2_prompt_0.jpg</td>\n",
       "      <td>experiment_pegasus_nyt/nyt_2_prompt_1.jpg</td>\n",
       "      <td>experiment_pegasus_nyt/nyt_2_prompt_2.jpg</td>\n",
       "      <td>experiment_pegasus_nyt/nyt_2_prompt_3.jpg</td>\n",
       "      <td>experiment_pegasus_nyt/nyt_2_prompt_4.jpg</td>\n",
       "      <td>experiment_pegasus_nyt/nyt_2_prompt_5.jpg</td>\n",
       "      <td>experiment_pegasus_nyt/nyt_2_prompt_6.jpg</td>\n",
       "      <td>experiment_pegasus_nyt/nyt_2_prompt_7.jpg</td>\n",
       "      <td>[27.608484268188477, 16.857530152356183, 16.93...</td>\n",
       "      <td>[31.590328216552734, 18.486857149336075, 18.02...</td>\n",
       "      <td>[25.24636459350586, 14.953857386553729, 15.203...</td>\n",
       "      <td>[27.496654510498047, 17.48060915205214, 17.281...</td>\n",
       "      <td>[27.25367546081543, 19.223290390438503, 19.357...</td>\n",
       "      <td>[23.65201187133789, 19.47159062491523, 19.7186...</td>\n",
       "      <td>[23.63893699645996, 19.315801832411026, 19.198...</td>\n",
       "      <td>[22.024520874023438, 17.72787414656745, 17.779...</td>\n",
       "    </tr>\n",
       "  </tbody>\n",
       "</table>\n",
       "</div>"
      ]
     },
     "metadata": {},
     "execution_count": 4
    }
   ],
   "metadata": {}
  },
  {
   "cell_type": "code",
   "execution_count": 6,
   "source": [
    "from doc2img.analysis import quant_analysis\n",
    "df = quant_analysis(df, config['prompts'])"
   ],
   "outputs": [
    {
     "output_type": "stream",
     "name": "stdout",
     "text": [
      "Average Max CLIP Score: 29.305335744222006\n"
     ]
    },
    {
     "output_type": "display_data",
     "data": {
      "text/plain": [
       "<Figure size 432x288 with 1 Axes>"
      ],
      "image/svg+xml": "<?xml version=\"1.0\" encoding=\"utf-8\" standalone=\"no\"?>\n<!DOCTYPE svg PUBLIC \"-//W3C//DTD SVG 1.1//EN\"\n  \"http://www.w3.org/Graphics/SVG/1.1/DTD/svg11.dtd\">\n<svg xmlns:xlink=\"http://www.w3.org/1999/xlink\" width=\"690.473437pt\" height=\"248.518125pt\" viewBox=\"0 0 690.473437 248.518125\" xmlns=\"http://www.w3.org/2000/svg\" version=\"1.1\">\n <metadata>\n  <rdf:RDF xmlns:dc=\"http://purl.org/dc/elements/1.1/\" xmlns:cc=\"http://creativecommons.org/ns#\" xmlns:rdf=\"http://www.w3.org/1999/02/22-rdf-syntax-ns#\">\n   <cc:Work>\n    <dc:type rdf:resource=\"http://purl.org/dc/dcmitype/StillImage\"/>\n    <dc:date>2023-05-29T13:15:45.175483</dc:date>\n    <dc:format>image/svg+xml</dc:format>\n    <dc:creator>\n     <cc:Agent>\n      <dc:title>Matplotlib v3.6.1, https://matplotlib.org/</dc:title>\n     </cc:Agent>\n    </dc:creator>\n   </cc:Work>\n  </rdf:RDF>\n </metadata>\n <defs>\n  <style type=\"text/css\">*{stroke-linejoin: round; stroke-linecap: butt}</style>\n </defs>\n <g id=\"figure_1\">\n  <g id=\"patch_1\">\n   <path d=\"M -0 248.518125 \nL 690.473438 248.518125 \nL 690.473438 0 \nL -0 0 \nL -0 248.518125 \nz\n\" style=\"fill: none\"/>\n  </g>\n  <g id=\"axes_1\">\n   <g id=\"patch_2\">\n    <path d=\"M 348.473437 224.64 \nL 683.273438 224.64 \nL 683.273438 7.2 \nL 348.473437 7.2 \nz\n\" style=\"fill: #ffffff\"/>\n   </g>\n   <g id=\"patch_3\">\n    <path d=\"M 348.473437 216.874286 \nL 667.33058 216.874286 \nL 667.33058 201.342857 \nL 348.473437 201.342857 \nz\n\" clip-path=\"url(#p2514264f82)\" style=\"fill: #1f77b4\"/>\n   </g>\n   <g id=\"patch_4\">\n    <path d=\"M 348.473437 185.811429 \nL 561.044866 185.811429 \nL 561.044866 170.28 \nL 348.473437 170.28 \nz\n\" clip-path=\"url(#p2514264f82)\" style=\"fill: #1f77b4\"/>\n   </g>\n   <g id=\"patch_5\">\n    <path d=\"M 348.473437 154.748571 \nL 561.044866 154.748571 \nL 561.044866 139.217143 \nL 348.473437 139.217143 \nz\n\" clip-path=\"url(#p2514264f82)\" style=\"fill: #1f77b4\"/>\n   </g>\n   <g id=\"patch_6\">\n    <path d=\"M 348.473437 123.685714 \nL 454.759152 123.685714 \nL 454.759152 108.154286 \nL 348.473437 108.154286 \nz\n\" clip-path=\"url(#p2514264f82)\" style=\"fill: #1f77b4\"/>\n   </g>\n   <g id=\"patch_7\">\n    <path d=\"M 348.473437 92.622857 \nL 454.759152 92.622857 \nL 454.759152 77.091429 \nL 348.473437 77.091429 \nz\n\" clip-path=\"url(#p2514264f82)\" style=\"fill: #1f77b4\"/>\n   </g>\n   <g id=\"patch_8\">\n    <path d=\"M 348.473437 61.56 \nL 419.33058 61.56 \nL 419.33058 46.028571 \nL 348.473437 46.028571 \nz\n\" clip-path=\"url(#p2514264f82)\" style=\"fill: #1f77b4\"/>\n   </g>\n   <g id=\"patch_9\">\n    <path d=\"M 348.473437 30.497143 \nL 383.902009 30.497143 \nL 383.902009 14.965714 \nL 348.473437 14.965714 \nz\n\" clip-path=\"url(#p2514264f82)\" style=\"fill: #1f77b4\"/>\n   </g>\n   <g id=\"matplotlib.axis_1\">\n    <g id=\"xtick_1\">\n     <g id=\"line2d_1\">\n      <defs>\n       <path id=\"mfedd3e3bcd\" d=\"M 0 0 \nL 0 3.5 \n\" style=\"stroke: #000000; stroke-width: 0.8\"/>\n      </defs>\n      <g>\n       <use xlink:href=\"#mfedd3e3bcd\" x=\"348.473437\" y=\"224.64\" style=\"stroke: #000000; stroke-width: 0.8\"/>\n      </g>\n     </g>\n     <g id=\"text_1\">\n      <!-- 0 -->\n      <g transform=\"translate(345.292188 239.238437) scale(0.1 -0.1)\">\n       <defs>\n        <path id=\"DejaVuSans-30\" d=\"M 2034 4250 \nQ 1547 4250 1301 3770 \nQ 1056 3291 1056 2328 \nQ 1056 1369 1301 889 \nQ 1547 409 2034 409 \nQ 2525 409 2770 889 \nQ 3016 1369 3016 2328 \nQ 3016 3291 2770 3770 \nQ 2525 4250 2034 4250 \nz\nM 2034 4750 \nQ 2819 4750 3233 4129 \nQ 3647 3509 3647 2328 \nQ 3647 1150 3233 529 \nQ 2819 -91 2034 -91 \nQ 1250 -91 836 529 \nQ 422 1150 422 2328 \nQ 422 3509 836 4129 \nQ 1250 4750 2034 4750 \nz\n\" transform=\"scale(0.015625)\"/>\n       </defs>\n       <use xlink:href=\"#DejaVuSans-30\"/>\n      </g>\n     </g>\n    </g>\n    <g id=\"xtick_2\">\n     <g id=\"line2d_2\">\n      <g>\n       <use xlink:href=\"#mfedd3e3bcd\" x=\"419.33058\" y=\"224.64\" style=\"stroke: #000000; stroke-width: 0.8\"/>\n      </g>\n     </g>\n     <g id=\"text_2\">\n      <!-- 2 -->\n      <g transform=\"translate(416.14933 239.238437) scale(0.1 -0.1)\">\n       <defs>\n        <path id=\"DejaVuSans-32\" d=\"M 1228 531 \nL 3431 531 \nL 3431 0 \nL 469 0 \nL 469 531 \nQ 828 903 1448 1529 \nQ 2069 2156 2228 2338 \nQ 2531 2678 2651 2914 \nQ 2772 3150 2772 3378 \nQ 2772 3750 2511 3984 \nQ 2250 4219 1831 4219 \nQ 1534 4219 1204 4116 \nQ 875 4013 500 3803 \nL 500 4441 \nQ 881 4594 1212 4672 \nQ 1544 4750 1819 4750 \nQ 2544 4750 2975 4387 \nQ 3406 4025 3406 3419 \nQ 3406 3131 3298 2873 \nQ 3191 2616 2906 2266 \nQ 2828 2175 2409 1742 \nQ 1991 1309 1228 531 \nz\n\" transform=\"scale(0.015625)\"/>\n       </defs>\n       <use xlink:href=\"#DejaVuSans-32\"/>\n      </g>\n     </g>\n    </g>\n    <g id=\"xtick_3\">\n     <g id=\"line2d_3\">\n      <g>\n       <use xlink:href=\"#mfedd3e3bcd\" x=\"490.187723\" y=\"224.64\" style=\"stroke: #000000; stroke-width: 0.8\"/>\n      </g>\n     </g>\n     <g id=\"text_3\">\n      <!-- 4 -->\n      <g transform=\"translate(487.006473 239.238437) scale(0.1 -0.1)\">\n       <defs>\n        <path id=\"DejaVuSans-34\" d=\"M 2419 4116 \nL 825 1625 \nL 2419 1625 \nL 2419 4116 \nz\nM 2253 4666 \nL 3047 4666 \nL 3047 1625 \nL 3713 1625 \nL 3713 1100 \nL 3047 1100 \nL 3047 0 \nL 2419 0 \nL 2419 1100 \nL 313 1100 \nL 313 1709 \nL 2253 4666 \nz\n\" transform=\"scale(0.015625)\"/>\n       </defs>\n       <use xlink:href=\"#DejaVuSans-34\"/>\n      </g>\n     </g>\n    </g>\n    <g id=\"xtick_4\">\n     <g id=\"line2d_4\">\n      <g>\n       <use xlink:href=\"#mfedd3e3bcd\" x=\"561.044866\" y=\"224.64\" style=\"stroke: #000000; stroke-width: 0.8\"/>\n      </g>\n     </g>\n     <g id=\"text_4\">\n      <!-- 6 -->\n      <g transform=\"translate(557.863616 239.238437) scale(0.1 -0.1)\">\n       <defs>\n        <path id=\"DejaVuSans-36\" d=\"M 2113 2584 \nQ 1688 2584 1439 2293 \nQ 1191 2003 1191 1497 \nQ 1191 994 1439 701 \nQ 1688 409 2113 409 \nQ 2538 409 2786 701 \nQ 3034 994 3034 1497 \nQ 3034 2003 2786 2293 \nQ 2538 2584 2113 2584 \nz\nM 3366 4563 \nL 3366 3988 \nQ 3128 4100 2886 4159 \nQ 2644 4219 2406 4219 \nQ 1781 4219 1451 3797 \nQ 1122 3375 1075 2522 \nQ 1259 2794 1537 2939 \nQ 1816 3084 2150 3084 \nQ 2853 3084 3261 2657 \nQ 3669 2231 3669 1497 \nQ 3669 778 3244 343 \nQ 2819 -91 2113 -91 \nQ 1303 -91 875 529 \nQ 447 1150 447 2328 \nQ 447 3434 972 4092 \nQ 1497 4750 2381 4750 \nQ 2619 4750 2861 4703 \nQ 3103 4656 3366 4563 \nz\n\" transform=\"scale(0.015625)\"/>\n       </defs>\n       <use xlink:href=\"#DejaVuSans-36\"/>\n      </g>\n     </g>\n    </g>\n    <g id=\"xtick_5\">\n     <g id=\"line2d_5\">\n      <g>\n       <use xlink:href=\"#mfedd3e3bcd\" x=\"631.902009\" y=\"224.64\" style=\"stroke: #000000; stroke-width: 0.8\"/>\n      </g>\n     </g>\n     <g id=\"text_5\">\n      <!-- 8 -->\n      <g transform=\"translate(628.720759 239.238437) scale(0.1 -0.1)\">\n       <defs>\n        <path id=\"DejaVuSans-38\" d=\"M 2034 2216 \nQ 1584 2216 1326 1975 \nQ 1069 1734 1069 1313 \nQ 1069 891 1326 650 \nQ 1584 409 2034 409 \nQ 2484 409 2743 651 \nQ 3003 894 3003 1313 \nQ 3003 1734 2745 1975 \nQ 2488 2216 2034 2216 \nz\nM 1403 2484 \nQ 997 2584 770 2862 \nQ 544 3141 544 3541 \nQ 544 4100 942 4425 \nQ 1341 4750 2034 4750 \nQ 2731 4750 3128 4425 \nQ 3525 4100 3525 3541 \nQ 3525 3141 3298 2862 \nQ 3072 2584 2669 2484 \nQ 3125 2378 3379 2068 \nQ 3634 1759 3634 1313 \nQ 3634 634 3220 271 \nQ 2806 -91 2034 -91 \nQ 1263 -91 848 271 \nQ 434 634 434 1313 \nQ 434 1759 690 2068 \nQ 947 2378 1403 2484 \nz\nM 1172 3481 \nQ 1172 3119 1398 2916 \nQ 1625 2713 2034 2713 \nQ 2441 2713 2670 2916 \nQ 2900 3119 2900 3481 \nQ 2900 3844 2670 4047 \nQ 2441 4250 2034 4250 \nQ 1625 4250 1398 4047 \nQ 1172 3844 1172 3481 \nz\n\" transform=\"scale(0.015625)\"/>\n       </defs>\n       <use xlink:href=\"#DejaVuSans-38\"/>\n      </g>\n     </g>\n    </g>\n   </g>\n   <g id=\"matplotlib.axis_2\">\n    <g id=\"ytick_1\">\n     <g id=\"line2d_6\">\n      <defs>\n       <path id=\"m7ae9401659\" d=\"M 0 0 \nL -3.5 0 \n\" style=\"stroke: #000000; stroke-width: 0.8\"/>\n      </defs>\n      <g>\n       <use xlink:href=\"#m7ae9401659\" x=\"348.473437\" y=\"209.108571\" style=\"stroke: #000000; stroke-width: 0.8\"/>\n      </g>\n     </g>\n     <g id=\"text_6\">\n      <!-- A high resolution photo of  -->\n      <g transform=\"translate(208.820312 212.90779) scale(0.1 -0.1)\">\n       <defs>\n        <path id=\"DejaVuSans-41\" d=\"M 2188 4044 \nL 1331 1722 \nL 3047 1722 \nL 2188 4044 \nz\nM 1831 4666 \nL 2547 4666 \nL 4325 0 \nL 3669 0 \nL 3244 1197 \nL 1141 1197 \nL 716 0 \nL 50 0 \nL 1831 4666 \nz\n\" transform=\"scale(0.015625)\"/>\n        <path id=\"DejaVuSans-20\" transform=\"scale(0.015625)\"/>\n        <path id=\"DejaVuSans-68\" d=\"M 3513 2113 \nL 3513 0 \nL 2938 0 \nL 2938 2094 \nQ 2938 2591 2744 2837 \nQ 2550 3084 2163 3084 \nQ 1697 3084 1428 2787 \nQ 1159 2491 1159 1978 \nL 1159 0 \nL 581 0 \nL 581 4863 \nL 1159 4863 \nL 1159 2956 \nQ 1366 3272 1645 3428 \nQ 1925 3584 2291 3584 \nQ 2894 3584 3203 3211 \nQ 3513 2838 3513 2113 \nz\n\" transform=\"scale(0.015625)\"/>\n        <path id=\"DejaVuSans-69\" d=\"M 603 3500 \nL 1178 3500 \nL 1178 0 \nL 603 0 \nL 603 3500 \nz\nM 603 4863 \nL 1178 4863 \nL 1178 4134 \nL 603 4134 \nL 603 4863 \nz\n\" transform=\"scale(0.015625)\"/>\n        <path id=\"DejaVuSans-67\" d=\"M 2906 1791 \nQ 2906 2416 2648 2759 \nQ 2391 3103 1925 3103 \nQ 1463 3103 1205 2759 \nQ 947 2416 947 1791 \nQ 947 1169 1205 825 \nQ 1463 481 1925 481 \nQ 2391 481 2648 825 \nQ 2906 1169 2906 1791 \nz\nM 3481 434 \nQ 3481 -459 3084 -895 \nQ 2688 -1331 1869 -1331 \nQ 1566 -1331 1297 -1286 \nQ 1028 -1241 775 -1147 \nL 775 -588 \nQ 1028 -725 1275 -790 \nQ 1522 -856 1778 -856 \nQ 2344 -856 2625 -561 \nQ 2906 -266 2906 331 \nL 2906 616 \nQ 2728 306 2450 153 \nQ 2172 0 1784 0 \nQ 1141 0 747 490 \nQ 353 981 353 1791 \nQ 353 2603 747 3093 \nQ 1141 3584 1784 3584 \nQ 2172 3584 2450 3431 \nQ 2728 3278 2906 2969 \nL 2906 3500 \nL 3481 3500 \nL 3481 434 \nz\n\" transform=\"scale(0.015625)\"/>\n        <path id=\"DejaVuSans-72\" d=\"M 2631 2963 \nQ 2534 3019 2420 3045 \nQ 2306 3072 2169 3072 \nQ 1681 3072 1420 2755 \nQ 1159 2438 1159 1844 \nL 1159 0 \nL 581 0 \nL 581 3500 \nL 1159 3500 \nL 1159 2956 \nQ 1341 3275 1631 3429 \nQ 1922 3584 2338 3584 \nQ 2397 3584 2469 3576 \nQ 2541 3569 2628 3553 \nL 2631 2963 \nz\n\" transform=\"scale(0.015625)\"/>\n        <path id=\"DejaVuSans-65\" d=\"M 3597 1894 \nL 3597 1613 \nL 953 1613 \nQ 991 1019 1311 708 \nQ 1631 397 2203 397 \nQ 2534 397 2845 478 \nQ 3156 559 3463 722 \nL 3463 178 \nQ 3153 47 2828 -22 \nQ 2503 -91 2169 -91 \nQ 1331 -91 842 396 \nQ 353 884 353 1716 \nQ 353 2575 817 3079 \nQ 1281 3584 2069 3584 \nQ 2775 3584 3186 3129 \nQ 3597 2675 3597 1894 \nz\nM 3022 2063 \nQ 3016 2534 2758 2815 \nQ 2500 3097 2075 3097 \nQ 1594 3097 1305 2825 \nQ 1016 2553 972 2059 \nL 3022 2063 \nz\n\" transform=\"scale(0.015625)\"/>\n        <path id=\"DejaVuSans-73\" d=\"M 2834 3397 \nL 2834 2853 \nQ 2591 2978 2328 3040 \nQ 2066 3103 1784 3103 \nQ 1356 3103 1142 2972 \nQ 928 2841 928 2578 \nQ 928 2378 1081 2264 \nQ 1234 2150 1697 2047 \nL 1894 2003 \nQ 2506 1872 2764 1633 \nQ 3022 1394 3022 966 \nQ 3022 478 2636 193 \nQ 2250 -91 1575 -91 \nQ 1294 -91 989 -36 \nQ 684 19 347 128 \nL 347 722 \nQ 666 556 975 473 \nQ 1284 391 1588 391 \nQ 1994 391 2212 530 \nQ 2431 669 2431 922 \nQ 2431 1156 2273 1281 \nQ 2116 1406 1581 1522 \nL 1381 1569 \nQ 847 1681 609 1914 \nQ 372 2147 372 2553 \nQ 372 3047 722 3315 \nQ 1072 3584 1716 3584 \nQ 2034 3584 2315 3537 \nQ 2597 3491 2834 3397 \nz\n\" transform=\"scale(0.015625)\"/>\n        <path id=\"DejaVuSans-6f\" d=\"M 1959 3097 \nQ 1497 3097 1228 2736 \nQ 959 2375 959 1747 \nQ 959 1119 1226 758 \nQ 1494 397 1959 397 \nQ 2419 397 2687 759 \nQ 2956 1122 2956 1747 \nQ 2956 2369 2687 2733 \nQ 2419 3097 1959 3097 \nz\nM 1959 3584 \nQ 2709 3584 3137 3096 \nQ 3566 2609 3566 1747 \nQ 3566 888 3137 398 \nQ 2709 -91 1959 -91 \nQ 1206 -91 779 398 \nQ 353 888 353 1747 \nQ 353 2609 779 3096 \nQ 1206 3584 1959 3584 \nz\n\" transform=\"scale(0.015625)\"/>\n        <path id=\"DejaVuSans-6c\" d=\"M 603 4863 \nL 1178 4863 \nL 1178 0 \nL 603 0 \nL 603 4863 \nz\n\" transform=\"scale(0.015625)\"/>\n        <path id=\"DejaVuSans-75\" d=\"M 544 1381 \nL 544 3500 \nL 1119 3500 \nL 1119 1403 \nQ 1119 906 1312 657 \nQ 1506 409 1894 409 \nQ 2359 409 2629 706 \nQ 2900 1003 2900 1516 \nL 2900 3500 \nL 3475 3500 \nL 3475 0 \nL 2900 0 \nL 2900 538 \nQ 2691 219 2414 64 \nQ 2138 -91 1772 -91 \nQ 1169 -91 856 284 \nQ 544 659 544 1381 \nz\nM 1991 3584 \nL 1991 3584 \nz\n\" transform=\"scale(0.015625)\"/>\n        <path id=\"DejaVuSans-74\" d=\"M 1172 4494 \nL 1172 3500 \nL 2356 3500 \nL 2356 3053 \nL 1172 3053 \nL 1172 1153 \nQ 1172 725 1289 603 \nQ 1406 481 1766 481 \nL 2356 481 \nL 2356 0 \nL 1766 0 \nQ 1100 0 847 248 \nQ 594 497 594 1153 \nL 594 3053 \nL 172 3053 \nL 172 3500 \nL 594 3500 \nL 594 4494 \nL 1172 4494 \nz\n\" transform=\"scale(0.015625)\"/>\n        <path id=\"DejaVuSans-6e\" d=\"M 3513 2113 \nL 3513 0 \nL 2938 0 \nL 2938 2094 \nQ 2938 2591 2744 2837 \nQ 2550 3084 2163 3084 \nQ 1697 3084 1428 2787 \nQ 1159 2491 1159 1978 \nL 1159 0 \nL 581 0 \nL 581 3500 \nL 1159 3500 \nL 1159 2956 \nQ 1366 3272 1645 3428 \nQ 1925 3584 2291 3584 \nQ 2894 3584 3203 3211 \nQ 3513 2838 3513 2113 \nz\n\" transform=\"scale(0.015625)\"/>\n        <path id=\"DejaVuSans-70\" d=\"M 1159 525 \nL 1159 -1331 \nL 581 -1331 \nL 581 3500 \nL 1159 3500 \nL 1159 2969 \nQ 1341 3281 1617 3432 \nQ 1894 3584 2278 3584 \nQ 2916 3584 3314 3078 \nQ 3713 2572 3713 1747 \nQ 3713 922 3314 415 \nQ 2916 -91 2278 -91 \nQ 1894 -91 1617 61 \nQ 1341 213 1159 525 \nz\nM 3116 1747 \nQ 3116 2381 2855 2742 \nQ 2594 3103 2138 3103 \nQ 1681 3103 1420 2742 \nQ 1159 2381 1159 1747 \nQ 1159 1113 1420 752 \nQ 1681 391 2138 391 \nQ 2594 391 2855 752 \nQ 3116 1113 3116 1747 \nz\n\" transform=\"scale(0.015625)\"/>\n        <path id=\"DejaVuSans-66\" d=\"M 2375 4863 \nL 2375 4384 \nL 1825 4384 \nQ 1516 4384 1395 4259 \nQ 1275 4134 1275 3809 \nL 1275 3500 \nL 2222 3500 \nL 2222 3053 \nL 1275 3053 \nL 1275 0 \nL 697 0 \nL 697 3053 \nL 147 3053 \nL 147 3500 \nL 697 3500 \nL 697 3744 \nQ 697 4328 969 4595 \nQ 1241 4863 1831 4863 \nL 2375 4863 \nz\n\" transform=\"scale(0.015625)\"/>\n       </defs>\n       <use xlink:href=\"#DejaVuSans-41\"/>\n       <use xlink:href=\"#DejaVuSans-20\" x=\"68.408203\"/>\n       <use xlink:href=\"#DejaVuSans-68\" x=\"100.195312\"/>\n       <use xlink:href=\"#DejaVuSans-69\" x=\"163.574219\"/>\n       <use xlink:href=\"#DejaVuSans-67\" x=\"191.357422\"/>\n       <use xlink:href=\"#DejaVuSans-68\" x=\"254.833984\"/>\n       <use xlink:href=\"#DejaVuSans-20\" x=\"318.212891\"/>\n       <use xlink:href=\"#DejaVuSans-72\" x=\"350\"/>\n       <use xlink:href=\"#DejaVuSans-65\" x=\"388.863281\"/>\n       <use xlink:href=\"#DejaVuSans-73\" x=\"450.386719\"/>\n       <use xlink:href=\"#DejaVuSans-6f\" x=\"502.486328\"/>\n       <use xlink:href=\"#DejaVuSans-6c\" x=\"563.667969\"/>\n       <use xlink:href=\"#DejaVuSans-75\" x=\"591.451172\"/>\n       <use xlink:href=\"#DejaVuSans-74\" x=\"654.830078\"/>\n       <use xlink:href=\"#DejaVuSans-69\" x=\"694.039062\"/>\n       <use xlink:href=\"#DejaVuSans-6f\" x=\"721.822266\"/>\n       <use xlink:href=\"#DejaVuSans-6e\" x=\"783.003906\"/>\n       <use xlink:href=\"#DejaVuSans-20\" x=\"846.382812\"/>\n       <use xlink:href=\"#DejaVuSans-70\" x=\"878.169922\"/>\n       <use xlink:href=\"#DejaVuSans-68\" x=\"941.646484\"/>\n       <use xlink:href=\"#DejaVuSans-6f\" x=\"1005.025391\"/>\n       <use xlink:href=\"#DejaVuSans-74\" x=\"1066.207031\"/>\n       <use xlink:href=\"#DejaVuSans-6f\" x=\"1105.416016\"/>\n       <use xlink:href=\"#DejaVuSans-20\" x=\"1166.597656\"/>\n       <use xlink:href=\"#DejaVuSans-6f\" x=\"1198.384766\"/>\n       <use xlink:href=\"#DejaVuSans-66\" x=\"1259.566406\"/>\n       <use xlink:href=\"#DejaVuSans-20\" x=\"1294.771484\"/>\n      </g>\n     </g>\n    </g>\n    <g id=\"ytick_2\">\n     <g id=\"line2d_7\">\n      <g>\n       <use xlink:href=\"#m7ae9401659\" x=\"348.473437\" y=\"178.045714\" style=\"stroke: #000000; stroke-width: 0.8\"/>\n      </g>\n     </g>\n     <g id=\"text_7\">\n      <!-- An image illustrating  -->\n      <g transform=\"translate(234.1875 181.844933) scale(0.1 -0.1)\">\n       <defs>\n        <path id=\"DejaVuSans-6d\" d=\"M 3328 2828 \nQ 3544 3216 3844 3400 \nQ 4144 3584 4550 3584 \nQ 5097 3584 5394 3201 \nQ 5691 2819 5691 2113 \nL 5691 0 \nL 5113 0 \nL 5113 2094 \nQ 5113 2597 4934 2840 \nQ 4756 3084 4391 3084 \nQ 3944 3084 3684 2787 \nQ 3425 2491 3425 1978 \nL 3425 0 \nL 2847 0 \nL 2847 2094 \nQ 2847 2600 2669 2842 \nQ 2491 3084 2119 3084 \nQ 1678 3084 1418 2786 \nQ 1159 2488 1159 1978 \nL 1159 0 \nL 581 0 \nL 581 3500 \nL 1159 3500 \nL 1159 2956 \nQ 1356 3278 1631 3431 \nQ 1906 3584 2284 3584 \nQ 2666 3584 2933 3390 \nQ 3200 3197 3328 2828 \nz\n\" transform=\"scale(0.015625)\"/>\n        <path id=\"DejaVuSans-61\" d=\"M 2194 1759 \nQ 1497 1759 1228 1600 \nQ 959 1441 959 1056 \nQ 959 750 1161 570 \nQ 1363 391 1709 391 \nQ 2188 391 2477 730 \nQ 2766 1069 2766 1631 \nL 2766 1759 \nL 2194 1759 \nz\nM 3341 1997 \nL 3341 0 \nL 2766 0 \nL 2766 531 \nQ 2569 213 2275 61 \nQ 1981 -91 1556 -91 \nQ 1019 -91 701 211 \nQ 384 513 384 1019 \nQ 384 1609 779 1909 \nQ 1175 2209 1959 2209 \nL 2766 2209 \nL 2766 2266 \nQ 2766 2663 2505 2880 \nQ 2244 3097 1772 3097 \nQ 1472 3097 1187 3025 \nQ 903 2953 641 2809 \nL 641 3341 \nQ 956 3463 1253 3523 \nQ 1550 3584 1831 3584 \nQ 2591 3584 2966 3190 \nQ 3341 2797 3341 1997 \nz\n\" transform=\"scale(0.015625)\"/>\n       </defs>\n       <use xlink:href=\"#DejaVuSans-41\"/>\n       <use xlink:href=\"#DejaVuSans-6e\" x=\"68.408203\"/>\n       <use xlink:href=\"#DejaVuSans-20\" x=\"131.787109\"/>\n       <use xlink:href=\"#DejaVuSans-69\" x=\"163.574219\"/>\n       <use xlink:href=\"#DejaVuSans-6d\" x=\"191.357422\"/>\n       <use xlink:href=\"#DejaVuSans-61\" x=\"288.769531\"/>\n       <use xlink:href=\"#DejaVuSans-67\" x=\"350.048828\"/>\n       <use xlink:href=\"#DejaVuSans-65\" x=\"413.525391\"/>\n       <use xlink:href=\"#DejaVuSans-20\" x=\"475.048828\"/>\n       <use xlink:href=\"#DejaVuSans-69\" x=\"506.835938\"/>\n       <use xlink:href=\"#DejaVuSans-6c\" x=\"534.619141\"/>\n       <use xlink:href=\"#DejaVuSans-6c\" x=\"562.402344\"/>\n       <use xlink:href=\"#DejaVuSans-75\" x=\"590.185547\"/>\n       <use xlink:href=\"#DejaVuSans-73\" x=\"653.564453\"/>\n       <use xlink:href=\"#DejaVuSans-74\" x=\"705.664062\"/>\n       <use xlink:href=\"#DejaVuSans-72\" x=\"744.873047\"/>\n       <use xlink:href=\"#DejaVuSans-61\" x=\"785.986328\"/>\n       <use xlink:href=\"#DejaVuSans-74\" x=\"847.265625\"/>\n       <use xlink:href=\"#DejaVuSans-69\" x=\"886.474609\"/>\n       <use xlink:href=\"#DejaVuSans-6e\" x=\"914.257812\"/>\n       <use xlink:href=\"#DejaVuSans-67\" x=\"977.636719\"/>\n       <use xlink:href=\"#DejaVuSans-20\" x=\"1041.113281\"/>\n      </g>\n     </g>\n    </g>\n    <g id=\"ytick_3\">\n     <g id=\"line2d_8\">\n      <g>\n       <use xlink:href=\"#m7ae9401659\" x=\"348.473437\" y=\"146.982857\" style=\"stroke: #000000; stroke-width: 0.8\"/>\n      </g>\n     </g>\n    </g>\n    <g id=\"ytick_4\">\n     <g id=\"line2d_9\">\n      <g>\n       <use xlink:href=\"#m7ae9401659\" x=\"348.473437\" y=\"115.92\" style=\"stroke: #000000; stroke-width: 0.8\"/>\n      </g>\n     </g>\n     <g id=\"text_8\">\n      <!-- Create an image inspired by  -->\n      <g transform=\"translate(196.639062 119.719219) scale(0.1 -0.1)\">\n       <defs>\n        <path id=\"DejaVuSans-43\" d=\"M 4122 4306 \nL 4122 3641 \nQ 3803 3938 3442 4084 \nQ 3081 4231 2675 4231 \nQ 1875 4231 1450 3742 \nQ 1025 3253 1025 2328 \nQ 1025 1406 1450 917 \nQ 1875 428 2675 428 \nQ 3081 428 3442 575 \nQ 3803 722 4122 1019 \nL 4122 359 \nQ 3791 134 3420 21 \nQ 3050 -91 2638 -91 \nQ 1578 -91 968 557 \nQ 359 1206 359 2328 \nQ 359 3453 968 4101 \nQ 1578 4750 2638 4750 \nQ 3056 4750 3426 4639 \nQ 3797 4528 4122 4306 \nz\n\" transform=\"scale(0.015625)\"/>\n        <path id=\"DejaVuSans-64\" d=\"M 2906 2969 \nL 2906 4863 \nL 3481 4863 \nL 3481 0 \nL 2906 0 \nL 2906 525 \nQ 2725 213 2448 61 \nQ 2172 -91 1784 -91 \nQ 1150 -91 751 415 \nQ 353 922 353 1747 \nQ 353 2572 751 3078 \nQ 1150 3584 1784 3584 \nQ 2172 3584 2448 3432 \nQ 2725 3281 2906 2969 \nz\nM 947 1747 \nQ 947 1113 1208 752 \nQ 1469 391 1925 391 \nQ 2381 391 2643 752 \nQ 2906 1113 2906 1747 \nQ 2906 2381 2643 2742 \nQ 2381 3103 1925 3103 \nQ 1469 3103 1208 2742 \nQ 947 2381 947 1747 \nz\n\" transform=\"scale(0.015625)\"/>\n        <path id=\"DejaVuSans-62\" d=\"M 3116 1747 \nQ 3116 2381 2855 2742 \nQ 2594 3103 2138 3103 \nQ 1681 3103 1420 2742 \nQ 1159 2381 1159 1747 \nQ 1159 1113 1420 752 \nQ 1681 391 2138 391 \nQ 2594 391 2855 752 \nQ 3116 1113 3116 1747 \nz\nM 1159 2969 \nQ 1341 3281 1617 3432 \nQ 1894 3584 2278 3584 \nQ 2916 3584 3314 3078 \nQ 3713 2572 3713 1747 \nQ 3713 922 3314 415 \nQ 2916 -91 2278 -91 \nQ 1894 -91 1617 61 \nQ 1341 213 1159 525 \nL 1159 0 \nL 581 0 \nL 581 4863 \nL 1159 4863 \nL 1159 2969 \nz\n\" transform=\"scale(0.015625)\"/>\n        <path id=\"DejaVuSans-79\" d=\"M 2059 -325 \nQ 1816 -950 1584 -1140 \nQ 1353 -1331 966 -1331 \nL 506 -1331 \nL 506 -850 \nL 844 -850 \nQ 1081 -850 1212 -737 \nQ 1344 -625 1503 -206 \nL 1606 56 \nL 191 3500 \nL 800 3500 \nL 1894 763 \nL 2988 3500 \nL 3597 3500 \nL 2059 -325 \nz\n\" transform=\"scale(0.015625)\"/>\n       </defs>\n       <use xlink:href=\"#DejaVuSans-43\"/>\n       <use xlink:href=\"#DejaVuSans-72\" x=\"69.824219\"/>\n       <use xlink:href=\"#DejaVuSans-65\" x=\"108.6875\"/>\n       <use xlink:href=\"#DejaVuSans-61\" x=\"170.210938\"/>\n       <use xlink:href=\"#DejaVuSans-74\" x=\"231.490234\"/>\n       <use xlink:href=\"#DejaVuSans-65\" x=\"270.699219\"/>\n       <use xlink:href=\"#DejaVuSans-20\" x=\"332.222656\"/>\n       <use xlink:href=\"#DejaVuSans-61\" x=\"364.009766\"/>\n       <use xlink:href=\"#DejaVuSans-6e\" x=\"425.289062\"/>\n       <use xlink:href=\"#DejaVuSans-20\" x=\"488.667969\"/>\n       <use xlink:href=\"#DejaVuSans-69\" x=\"520.455078\"/>\n       <use xlink:href=\"#DejaVuSans-6d\" x=\"548.238281\"/>\n       <use xlink:href=\"#DejaVuSans-61\" x=\"645.650391\"/>\n       <use xlink:href=\"#DejaVuSans-67\" x=\"706.929688\"/>\n       <use xlink:href=\"#DejaVuSans-65\" x=\"770.40625\"/>\n       <use xlink:href=\"#DejaVuSans-20\" x=\"831.929688\"/>\n       <use xlink:href=\"#DejaVuSans-69\" x=\"863.716797\"/>\n       <use xlink:href=\"#DejaVuSans-6e\" x=\"891.5\"/>\n       <use xlink:href=\"#DejaVuSans-73\" x=\"954.878906\"/>\n       <use xlink:href=\"#DejaVuSans-70\" x=\"1006.978516\"/>\n       <use xlink:href=\"#DejaVuSans-69\" x=\"1070.455078\"/>\n       <use xlink:href=\"#DejaVuSans-72\" x=\"1098.238281\"/>\n       <use xlink:href=\"#DejaVuSans-65\" x=\"1137.101562\"/>\n       <use xlink:href=\"#DejaVuSans-64\" x=\"1198.625\"/>\n       <use xlink:href=\"#DejaVuSans-20\" x=\"1262.101562\"/>\n       <use xlink:href=\"#DejaVuSans-62\" x=\"1293.888672\"/>\n       <use xlink:href=\"#DejaVuSans-79\" x=\"1357.365234\"/>\n       <use xlink:href=\"#DejaVuSans-20\" x=\"1416.544922\"/>\n      </g>\n     </g>\n    </g>\n    <g id=\"ytick_5\">\n     <g id=\"line2d_10\">\n      <g>\n       <use xlink:href=\"#m7ae9401659\" x=\"348.473437\" y=\"84.857143\" style=\"stroke: #000000; stroke-width: 0.8\"/>\n      </g>\n     </g>\n     <g id=\"text_9\">\n      <!-- Generate an artistic interpretation of the text  -->\n      <g transform=\"translate(111.034375 88.656362) scale(0.1 -0.1)\">\n       <defs>\n        <path id=\"DejaVuSans-47\" d=\"M 3809 666 \nL 3809 1919 \nL 2778 1919 \nL 2778 2438 \nL 4434 2438 \nL 4434 434 \nQ 4069 175 3628 42 \nQ 3188 -91 2688 -91 \nQ 1594 -91 976 548 \nQ 359 1188 359 2328 \nQ 359 3472 976 4111 \nQ 1594 4750 2688 4750 \nQ 3144 4750 3555 4637 \nQ 3966 4525 4313 4306 \nL 4313 3634 \nQ 3963 3931 3569 4081 \nQ 3175 4231 2741 4231 \nQ 1884 4231 1454 3753 \nQ 1025 3275 1025 2328 \nQ 1025 1384 1454 906 \nQ 1884 428 2741 428 \nQ 3075 428 3337 486 \nQ 3600 544 3809 666 \nz\n\" transform=\"scale(0.015625)\"/>\n        <path id=\"DejaVuSans-63\" d=\"M 3122 3366 \nL 3122 2828 \nQ 2878 2963 2633 3030 \nQ 2388 3097 2138 3097 \nQ 1578 3097 1268 2742 \nQ 959 2388 959 1747 \nQ 959 1106 1268 751 \nQ 1578 397 2138 397 \nQ 2388 397 2633 464 \nQ 2878 531 3122 666 \nL 3122 134 \nQ 2881 22 2623 -34 \nQ 2366 -91 2075 -91 \nQ 1284 -91 818 406 \nQ 353 903 353 1747 \nQ 353 2603 823 3093 \nQ 1294 3584 2113 3584 \nQ 2378 3584 2631 3529 \nQ 2884 3475 3122 3366 \nz\n\" transform=\"scale(0.015625)\"/>\n        <path id=\"DejaVuSans-78\" d=\"M 3513 3500 \nL 2247 1797 \nL 3578 0 \nL 2900 0 \nL 1881 1375 \nL 863 0 \nL 184 0 \nL 1544 1831 \nL 300 3500 \nL 978 3500 \nL 1906 2253 \nL 2834 3500 \nL 3513 3500 \nz\n\" transform=\"scale(0.015625)\"/>\n       </defs>\n       <use xlink:href=\"#DejaVuSans-47\"/>\n       <use xlink:href=\"#DejaVuSans-65\" x=\"77.490234\"/>\n       <use xlink:href=\"#DejaVuSans-6e\" x=\"139.013672\"/>\n       <use xlink:href=\"#DejaVuSans-65\" x=\"202.392578\"/>\n       <use xlink:href=\"#DejaVuSans-72\" x=\"263.916016\"/>\n       <use xlink:href=\"#DejaVuSans-61\" x=\"305.029297\"/>\n       <use xlink:href=\"#DejaVuSans-74\" x=\"366.308594\"/>\n       <use xlink:href=\"#DejaVuSans-65\" x=\"405.517578\"/>\n       <use xlink:href=\"#DejaVuSans-20\" x=\"467.041016\"/>\n       <use xlink:href=\"#DejaVuSans-61\" x=\"498.828125\"/>\n       <use xlink:href=\"#DejaVuSans-6e\" x=\"560.107422\"/>\n       <use xlink:href=\"#DejaVuSans-20\" x=\"623.486328\"/>\n       <use xlink:href=\"#DejaVuSans-61\" x=\"655.273438\"/>\n       <use xlink:href=\"#DejaVuSans-72\" x=\"716.552734\"/>\n       <use xlink:href=\"#DejaVuSans-74\" x=\"757.666016\"/>\n       <use xlink:href=\"#DejaVuSans-69\" x=\"796.875\"/>\n       <use xlink:href=\"#DejaVuSans-73\" x=\"824.658203\"/>\n       <use xlink:href=\"#DejaVuSans-74\" x=\"876.757812\"/>\n       <use xlink:href=\"#DejaVuSans-69\" x=\"915.966797\"/>\n       <use xlink:href=\"#DejaVuSans-63\" x=\"943.75\"/>\n       <use xlink:href=\"#DejaVuSans-20\" x=\"998.730469\"/>\n       <use xlink:href=\"#DejaVuSans-69\" x=\"1030.517578\"/>\n       <use xlink:href=\"#DejaVuSans-6e\" x=\"1058.300781\"/>\n       <use xlink:href=\"#DejaVuSans-74\" x=\"1121.679688\"/>\n       <use xlink:href=\"#DejaVuSans-65\" x=\"1160.888672\"/>\n       <use xlink:href=\"#DejaVuSans-72\" x=\"1222.412109\"/>\n       <use xlink:href=\"#DejaVuSans-70\" x=\"1263.525391\"/>\n       <use xlink:href=\"#DejaVuSans-72\" x=\"1327.001953\"/>\n       <use xlink:href=\"#DejaVuSans-65\" x=\"1365.865234\"/>\n       <use xlink:href=\"#DejaVuSans-74\" x=\"1427.388672\"/>\n       <use xlink:href=\"#DejaVuSans-61\" x=\"1466.597656\"/>\n       <use xlink:href=\"#DejaVuSans-74\" x=\"1527.876953\"/>\n       <use xlink:href=\"#DejaVuSans-69\" x=\"1567.085938\"/>\n       <use xlink:href=\"#DejaVuSans-6f\" x=\"1594.869141\"/>\n       <use xlink:href=\"#DejaVuSans-6e\" x=\"1656.050781\"/>\n       <use xlink:href=\"#DejaVuSans-20\" x=\"1719.429688\"/>\n       <use xlink:href=\"#DejaVuSans-6f\" x=\"1751.216797\"/>\n       <use xlink:href=\"#DejaVuSans-66\" x=\"1812.398438\"/>\n       <use xlink:href=\"#DejaVuSans-20\" x=\"1847.603516\"/>\n       <use xlink:href=\"#DejaVuSans-74\" x=\"1879.390625\"/>\n       <use xlink:href=\"#DejaVuSans-68\" x=\"1918.599609\"/>\n       <use xlink:href=\"#DejaVuSans-65\" x=\"1981.978516\"/>\n       <use xlink:href=\"#DejaVuSans-20\" x=\"2043.501953\"/>\n       <use xlink:href=\"#DejaVuSans-74\" x=\"2075.289062\"/>\n       <use xlink:href=\"#DejaVuSans-65\" x=\"2114.498047\"/>\n       <use xlink:href=\"#DejaVuSans-78\" x=\"2174.271484\"/>\n       <use xlink:href=\"#DejaVuSans-74\" x=\"2233.451172\"/>\n       <use xlink:href=\"#DejaVuSans-20\" x=\"2272.660156\"/>\n      </g>\n     </g>\n    </g>\n    <g id=\"ytick_6\">\n     <g id=\"line2d_11\">\n      <g>\n       <use xlink:href=\"#m7ae9401659\" x=\"348.473437\" y=\"53.794286\" style=\"stroke: #000000; stroke-width: 0.8\"/>\n      </g>\n     </g>\n     <g id=\"text_10\">\n      <!-- Imagine an illustration that captures the central theme of the text  -->\n      <g transform=\"translate(7.2 57.593504) scale(0.1 -0.1)\">\n       <defs>\n        <path id=\"DejaVuSans-49\" d=\"M 628 4666 \nL 1259 4666 \nL 1259 0 \nL 628 0 \nL 628 4666 \nz\n\" transform=\"scale(0.015625)\"/>\n       </defs>\n       <use xlink:href=\"#DejaVuSans-49\"/>\n       <use xlink:href=\"#DejaVuSans-6d\" x=\"29.492188\"/>\n       <use xlink:href=\"#DejaVuSans-61\" x=\"126.904297\"/>\n       <use xlink:href=\"#DejaVuSans-67\" x=\"188.183594\"/>\n       <use xlink:href=\"#DejaVuSans-69\" x=\"251.660156\"/>\n       <use xlink:href=\"#DejaVuSans-6e\" x=\"279.443359\"/>\n       <use xlink:href=\"#DejaVuSans-65\" x=\"342.822266\"/>\n       <use xlink:href=\"#DejaVuSans-20\" x=\"404.345703\"/>\n       <use xlink:href=\"#DejaVuSans-61\" x=\"436.132812\"/>\n       <use xlink:href=\"#DejaVuSans-6e\" x=\"497.412109\"/>\n       <use xlink:href=\"#DejaVuSans-20\" x=\"560.791016\"/>\n       <use xlink:href=\"#DejaVuSans-69\" x=\"592.578125\"/>\n       <use xlink:href=\"#DejaVuSans-6c\" x=\"620.361328\"/>\n       <use xlink:href=\"#DejaVuSans-6c\" x=\"648.144531\"/>\n       <use xlink:href=\"#DejaVuSans-75\" x=\"675.927734\"/>\n       <use xlink:href=\"#DejaVuSans-73\" x=\"739.306641\"/>\n       <use xlink:href=\"#DejaVuSans-74\" x=\"791.40625\"/>\n       <use xlink:href=\"#DejaVuSans-72\" x=\"830.615234\"/>\n       <use xlink:href=\"#DejaVuSans-61\" x=\"871.728516\"/>\n       <use xlink:href=\"#DejaVuSans-74\" x=\"933.007812\"/>\n       <use xlink:href=\"#DejaVuSans-69\" x=\"972.216797\"/>\n       <use xlink:href=\"#DejaVuSans-6f\" x=\"1000\"/>\n       <use xlink:href=\"#DejaVuSans-6e\" x=\"1061.181641\"/>\n       <use xlink:href=\"#DejaVuSans-20\" x=\"1124.560547\"/>\n       <use xlink:href=\"#DejaVuSans-74\" x=\"1156.347656\"/>\n       <use xlink:href=\"#DejaVuSans-68\" x=\"1195.556641\"/>\n       <use xlink:href=\"#DejaVuSans-61\" x=\"1258.935547\"/>\n       <use xlink:href=\"#DejaVuSans-74\" x=\"1320.214844\"/>\n       <use xlink:href=\"#DejaVuSans-20\" x=\"1359.423828\"/>\n       <use xlink:href=\"#DejaVuSans-63\" x=\"1391.210938\"/>\n       <use xlink:href=\"#DejaVuSans-61\" x=\"1446.191406\"/>\n       <use xlink:href=\"#DejaVuSans-70\" x=\"1507.470703\"/>\n       <use xlink:href=\"#DejaVuSans-74\" x=\"1570.947266\"/>\n       <use xlink:href=\"#DejaVuSans-75\" x=\"1610.15625\"/>\n       <use xlink:href=\"#DejaVuSans-72\" x=\"1673.535156\"/>\n       <use xlink:href=\"#DejaVuSans-65\" x=\"1712.398438\"/>\n       <use xlink:href=\"#DejaVuSans-73\" x=\"1773.921875\"/>\n       <use xlink:href=\"#DejaVuSans-20\" x=\"1826.021484\"/>\n       <use xlink:href=\"#DejaVuSans-74\" x=\"1857.808594\"/>\n       <use xlink:href=\"#DejaVuSans-68\" x=\"1897.017578\"/>\n       <use xlink:href=\"#DejaVuSans-65\" x=\"1960.396484\"/>\n       <use xlink:href=\"#DejaVuSans-20\" x=\"2021.919922\"/>\n       <use xlink:href=\"#DejaVuSans-63\" x=\"2053.707031\"/>\n       <use xlink:href=\"#DejaVuSans-65\" x=\"2108.6875\"/>\n       <use xlink:href=\"#DejaVuSans-6e\" x=\"2170.210938\"/>\n       <use xlink:href=\"#DejaVuSans-74\" x=\"2233.589844\"/>\n       <use xlink:href=\"#DejaVuSans-72\" x=\"2272.798828\"/>\n       <use xlink:href=\"#DejaVuSans-61\" x=\"2313.912109\"/>\n       <use xlink:href=\"#DejaVuSans-6c\" x=\"2375.191406\"/>\n       <use xlink:href=\"#DejaVuSans-20\" x=\"2402.974609\"/>\n       <use xlink:href=\"#DejaVuSans-74\" x=\"2434.761719\"/>\n       <use xlink:href=\"#DejaVuSans-68\" x=\"2473.970703\"/>\n       <use xlink:href=\"#DejaVuSans-65\" x=\"2537.349609\"/>\n       <use xlink:href=\"#DejaVuSans-6d\" x=\"2598.873047\"/>\n       <use xlink:href=\"#DejaVuSans-65\" x=\"2696.285156\"/>\n       <use xlink:href=\"#DejaVuSans-20\" x=\"2757.808594\"/>\n       <use xlink:href=\"#DejaVuSans-6f\" x=\"2789.595703\"/>\n       <use xlink:href=\"#DejaVuSans-66\" x=\"2850.777344\"/>\n       <use xlink:href=\"#DejaVuSans-20\" x=\"2885.982422\"/>\n       <use xlink:href=\"#DejaVuSans-74\" x=\"2917.769531\"/>\n       <use xlink:href=\"#DejaVuSans-68\" x=\"2956.978516\"/>\n       <use xlink:href=\"#DejaVuSans-65\" x=\"3020.357422\"/>\n       <use xlink:href=\"#DejaVuSans-20\" x=\"3081.880859\"/>\n       <use xlink:href=\"#DejaVuSans-74\" x=\"3113.667969\"/>\n       <use xlink:href=\"#DejaVuSans-65\" x=\"3152.876953\"/>\n       <use xlink:href=\"#DejaVuSans-78\" x=\"3212.650391\"/>\n       <use xlink:href=\"#DejaVuSans-74\" x=\"3271.830078\"/>\n       <use xlink:href=\"#DejaVuSans-20\" x=\"3311.039062\"/>\n      </g>\n     </g>\n    </g>\n    <g id=\"ytick_7\">\n     <g id=\"line2d_12\">\n      <g>\n       <use xlink:href=\"#m7ae9401659\" x=\"348.473437\" y=\"22.731429\" style=\"stroke: #000000; stroke-width: 0.8\"/>\n      </g>\n     </g>\n     <g id=\"text_11\">\n      <!-- Create an abstract artwork captures the essence of the following:  -->\n      <g transform=\"translate(9.4 26.530647) scale(0.1 -0.1)\">\n       <defs>\n        <path id=\"DejaVuSans-77\" d=\"M 269 3500 \nL 844 3500 \nL 1563 769 \nL 2278 3500 \nL 2956 3500 \nL 3675 769 \nL 4391 3500 \nL 4966 3500 \nL 4050 0 \nL 3372 0 \nL 2619 2869 \nL 1863 0 \nL 1184 0 \nL 269 3500 \nz\n\" transform=\"scale(0.015625)\"/>\n        <path id=\"DejaVuSans-6b\" d=\"M 581 4863 \nL 1159 4863 \nL 1159 1991 \nL 2875 3500 \nL 3609 3500 \nL 1753 1863 \nL 3688 0 \nL 2938 0 \nL 1159 1709 \nL 1159 0 \nL 581 0 \nL 581 4863 \nz\n\" transform=\"scale(0.015625)\"/>\n        <path id=\"DejaVuSans-3a\" d=\"M 750 794 \nL 1409 794 \nL 1409 0 \nL 750 0 \nL 750 794 \nz\nM 750 3309 \nL 1409 3309 \nL 1409 2516 \nL 750 2516 \nL 750 3309 \nz\n\" transform=\"scale(0.015625)\"/>\n       </defs>\n       <use xlink:href=\"#DejaVuSans-43\"/>\n       <use xlink:href=\"#DejaVuSans-72\" x=\"69.824219\"/>\n       <use xlink:href=\"#DejaVuSans-65\" x=\"108.6875\"/>\n       <use xlink:href=\"#DejaVuSans-61\" x=\"170.210938\"/>\n       <use xlink:href=\"#DejaVuSans-74\" x=\"231.490234\"/>\n       <use xlink:href=\"#DejaVuSans-65\" x=\"270.699219\"/>\n       <use xlink:href=\"#DejaVuSans-20\" x=\"332.222656\"/>\n       <use xlink:href=\"#DejaVuSans-61\" x=\"364.009766\"/>\n       <use xlink:href=\"#DejaVuSans-6e\" x=\"425.289062\"/>\n       <use xlink:href=\"#DejaVuSans-20\" x=\"488.667969\"/>\n       <use xlink:href=\"#DejaVuSans-61\" x=\"520.455078\"/>\n       <use xlink:href=\"#DejaVuSans-62\" x=\"581.734375\"/>\n       <use xlink:href=\"#DejaVuSans-73\" x=\"645.210938\"/>\n       <use xlink:href=\"#DejaVuSans-74\" x=\"697.310547\"/>\n       <use xlink:href=\"#DejaVuSans-72\" x=\"736.519531\"/>\n       <use xlink:href=\"#DejaVuSans-61\" x=\"777.632812\"/>\n       <use xlink:href=\"#DejaVuSans-63\" x=\"838.912109\"/>\n       <use xlink:href=\"#DejaVuSans-74\" x=\"893.892578\"/>\n       <use xlink:href=\"#DejaVuSans-20\" x=\"933.101562\"/>\n       <use xlink:href=\"#DejaVuSans-61\" x=\"964.888672\"/>\n       <use xlink:href=\"#DejaVuSans-72\" x=\"1026.167969\"/>\n       <use xlink:href=\"#DejaVuSans-74\" x=\"1067.28125\"/>\n       <use xlink:href=\"#DejaVuSans-77\" x=\"1106.490234\"/>\n       <use xlink:href=\"#DejaVuSans-6f\" x=\"1188.277344\"/>\n       <use xlink:href=\"#DejaVuSans-72\" x=\"1249.458984\"/>\n       <use xlink:href=\"#DejaVuSans-6b\" x=\"1290.572266\"/>\n       <use xlink:href=\"#DejaVuSans-20\" x=\"1348.482422\"/>\n       <use xlink:href=\"#DejaVuSans-63\" x=\"1380.269531\"/>\n       <use xlink:href=\"#DejaVuSans-61\" x=\"1435.25\"/>\n       <use xlink:href=\"#DejaVuSans-70\" x=\"1496.529297\"/>\n       <use xlink:href=\"#DejaVuSans-74\" x=\"1560.005859\"/>\n       <use xlink:href=\"#DejaVuSans-75\" x=\"1599.214844\"/>\n       <use xlink:href=\"#DejaVuSans-72\" x=\"1662.59375\"/>\n       <use xlink:href=\"#DejaVuSans-65\" x=\"1701.457031\"/>\n       <use xlink:href=\"#DejaVuSans-73\" x=\"1762.980469\"/>\n       <use xlink:href=\"#DejaVuSans-20\" x=\"1815.080078\"/>\n       <use xlink:href=\"#DejaVuSans-74\" x=\"1846.867188\"/>\n       <use xlink:href=\"#DejaVuSans-68\" x=\"1886.076172\"/>\n       <use xlink:href=\"#DejaVuSans-65\" x=\"1949.455078\"/>\n       <use xlink:href=\"#DejaVuSans-20\" x=\"2010.978516\"/>\n       <use xlink:href=\"#DejaVuSans-65\" x=\"2042.765625\"/>\n       <use xlink:href=\"#DejaVuSans-73\" x=\"2104.289062\"/>\n       <use xlink:href=\"#DejaVuSans-73\" x=\"2156.388672\"/>\n       <use xlink:href=\"#DejaVuSans-65\" x=\"2208.488281\"/>\n       <use xlink:href=\"#DejaVuSans-6e\" x=\"2270.011719\"/>\n       <use xlink:href=\"#DejaVuSans-63\" x=\"2333.390625\"/>\n       <use xlink:href=\"#DejaVuSans-65\" x=\"2388.371094\"/>\n       <use xlink:href=\"#DejaVuSans-20\" x=\"2449.894531\"/>\n       <use xlink:href=\"#DejaVuSans-6f\" x=\"2481.681641\"/>\n       <use xlink:href=\"#DejaVuSans-66\" x=\"2542.863281\"/>\n       <use xlink:href=\"#DejaVuSans-20\" x=\"2578.068359\"/>\n       <use xlink:href=\"#DejaVuSans-74\" x=\"2609.855469\"/>\n       <use xlink:href=\"#DejaVuSans-68\" x=\"2649.064453\"/>\n       <use xlink:href=\"#DejaVuSans-65\" x=\"2712.443359\"/>\n       <use xlink:href=\"#DejaVuSans-20\" x=\"2773.966797\"/>\n       <use xlink:href=\"#DejaVuSans-66\" x=\"2805.753906\"/>\n       <use xlink:href=\"#DejaVuSans-6f\" x=\"2840.958984\"/>\n       <use xlink:href=\"#DejaVuSans-6c\" x=\"2902.140625\"/>\n       <use xlink:href=\"#DejaVuSans-6c\" x=\"2929.923828\"/>\n       <use xlink:href=\"#DejaVuSans-6f\" x=\"2957.707031\"/>\n       <use xlink:href=\"#DejaVuSans-77\" x=\"3018.888672\"/>\n       <use xlink:href=\"#DejaVuSans-69\" x=\"3100.675781\"/>\n       <use xlink:href=\"#DejaVuSans-6e\" x=\"3128.458984\"/>\n       <use xlink:href=\"#DejaVuSans-67\" x=\"3191.837891\"/>\n       <use xlink:href=\"#DejaVuSans-3a\" x=\"3255.314453\"/>\n       <use xlink:href=\"#DejaVuSans-20\" x=\"3289.005859\"/>\n      </g>\n     </g>\n    </g>\n   </g>\n   <g id=\"patch_10\">\n    <path d=\"M 348.473437 224.64 \nL 348.473437 7.2 \n\" style=\"fill: none; stroke: #000000; stroke-width: 0.8; stroke-linejoin: miter; stroke-linecap: square\"/>\n   </g>\n   <g id=\"patch_11\">\n    <path d=\"M 683.273438 224.64 \nL 683.273438 7.2 \n\" style=\"fill: none; stroke: #000000; stroke-width: 0.8; stroke-linejoin: miter; stroke-linecap: square\"/>\n   </g>\n   <g id=\"patch_12\">\n    <path d=\"M 348.473437 224.64 \nL 683.273438 224.64 \n\" style=\"fill: none; stroke: #000000; stroke-width: 0.8; stroke-linejoin: miter; stroke-linecap: square\"/>\n   </g>\n   <g id=\"patch_13\">\n    <path d=\"M 348.473437 7.2 \nL 683.273438 7.2 \n\" style=\"fill: none; stroke: #000000; stroke-width: 0.8; stroke-linejoin: miter; stroke-linecap: square\"/>\n   </g>\n  </g>\n </g>\n <defs>\n  <clipPath id=\"p2514264f82\">\n   <rect x=\"348.473437\" y=\"7.2\" width=\"334.8\" height=\"217.44\"/>\n  </clipPath>\n </defs>\n</svg>\n",
      "image/png": "[encoded data removed]"
     },
     "metadata": {
      "needs_background": "light"
     }
    }
   ],
   "metadata": {}
  },
  {
   "cell_type": "markdown",
   "source": [],
   "metadata": {}
  },
  {
   "cell_type": "code",
   "execution_count": null,
   "source": [],
   "outputs": [],
   "metadata": {}
  }
 ],
 "metadata": {
  "interpreter": {
   "hash": "31f2aee4e71d21fbe5cf8b01ff0e069b9275f58929596ceb00d14d90e3e16cd6"
  },
  "kernelspec": {
   "display_name": "Python 3.8.9 64-bit",
   "name": "python3"
  },
  "language_info": {
   "codemirror_mode": {
    "name": "ipython",
    "version": 3
   },
   "file_extension": ".py",
   "mimetype": "text/x-python",
   "name": "python",
   "nbconvert_exporter": "python",
   "pygments_lexer": "ipython3",
   "version": "3.7.16"
  }
 },
 "nbformat": 4,
 "nbformat_minor": 5
}