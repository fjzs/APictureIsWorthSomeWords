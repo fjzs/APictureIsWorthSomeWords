{
 "cells": [
  {
   "cell_type": "code",
   "execution_count": 1,
   "metadata": {},
   "outputs": [
    {
     "name": "stderr",
     "output_type": "stream",
     "text": [
      "/home/prashant/anaconda3/envs/torch2/lib/python3.7/site-packages/tqdm/auto.py:21: TqdmWarning: IProgress not found. Please update jupyter and ipywidgets. See https://ipywidgets.readthedocs.io/en/stable/user_install.html\n",
      "  from .autonotebook import tqdm as notebook_tqdm\n",
      "`text_config_dict` is provided which will be used to initialize `CLIPTextConfig`. The value `text_config[\"id2label\"]` will be overriden.\n",
      "[nltk_data] Downloading package punkt to /home/prashant/nltk_data...\n",
      "[nltk_data]   Package punkt is already up-to-date!\n",
      "[nltk_data] Downloading package stopwords to\n",
      "[nltk_data]     /home/prashant/nltk_data...\n",
      "[nltk_data]   Package stopwords is already up-to-date!\n",
      "[nltk_data] Downloading package averaged_perceptron_tagger to\n",
      "[nltk_data]     /home/prashant/nltk_data...\n",
      "[nltk_data]   Package averaged_perceptron_tagger is already up-to-\n",
      "[nltk_data]       date!\n",
      "[nltk_data] Downloading package averaged_perceptron_tagger to\n",
      "[nltk_data]     /home/prashant/nltk_data...\n",
      "[nltk_data]   Package averaged_perceptron_tagger is already up-to-\n",
      "[nltk_data]       date!\n"
     ]
    }
   ],
   "source": [
    "# %%capture\n",
    "\n",
    "# %load_ext autoreload\n",
    "# %autoreload 2\n",
    "\n",
    "import pandas as pd\n",
    "import numpy as np\n",
    "import os\n",
    "os.environ['CUDA_VISIBLE_DEVICES']='1'\n",
    "from doc2img.dataloader import get_raw_dataset\n",
    "from doc2img.generating_images import generate_image\n",
    "from doc2img.summarization import get_summary\n",
    "from doc2img.clip_inference import get_pretrained_clip_scores\n",
    "import yaml\n",
    "import matplotlib.pyplot as plt\n",
    "import cv2"
   ]
  },
  {
   "cell_type": "code",
   "execution_count": 2,
   "metadata": {},
   "outputs": [],
   "source": [
    "config_file = 'config.yaml'\n",
    "with open(config_file) as cf_file:\n",
    "    config = yaml.safe_load(cf_file.read())"
   ]
  },
  {
   "cell_type": "code",
   "execution_count": 3,
   "metadata": {},
   "outputs": [],
   "source": [
    "DATASET_TYPE = \"stories\" # 'poems', 'nyt', 'stories\n",
    "dataset_path_mini = config['datasets'][DATASET_TYPE + '_mini']\n",
    "dataset_path_full = config['datasets'][DATASET_TYPE + '_full']\n",
    "df_mini = get_raw_dataset(DATASET_TYPE, dataset_path_mini, max_examples=None)\n",
    "df_full = get_raw_dataset(DATASET_TYPE, dataset_path_full, max_examples=None)"
   ]
  },
  {
   "cell_type": "code",
   "execution_count": 5,
   "metadata": {},
   "outputs": [
    {
     "name": "stdout",
     "output_type": "stream",
     "text": [
      "Summarization method :  tfidf\n"
     ]
    }
   ],
   "source": [
    "print(\"Summarization method : \", config['summary_method'])"
   ]
  },
  {
   "cell_type": "code",
   "execution_count": 6,
   "metadata": {},
   "outputs": [
    {
     "name": "stdout",
     "output_type": "stream",
     "text": [
      "Preprocessing...\n"
     ]
    }
   ],
   "source": [
    "#generating summaries\n",
    "df = get_summary(df_full, df_mini, config)"
   ]
  },
  {
   "cell_type": "code",
   "execution_count": null,
   "metadata": {},
   "outputs": [
    {
     "data": {
      "text/html": [
       "<div>\n",
       "<style scoped>\n",
       "    .dataframe tbody tr th:only-of-type {\n",
       "        vertical-align: middle;\n",
       "    }\n",
       "\n",
       "    .dataframe tbody tr th {\n",
       "        vertical-align: top;\n",
       "    }\n",
       "\n",
       "    .dataframe thead th {\n",
       "        text-align: right;\n",
       "    }\n",
       "</style>\n",
       "<table border=\"1\" class=\"dataframe\">\n",
       "  <thead>\n",
       "    <tr style=\"text-align: right;\">\n",
       "      <th></th>\n",
       "      <th>text</th>\n",
       "      <th>topic</th>\n",
       "      <th>summary</th>\n",
       "    </tr>\n",
       "  </thead>\n",
       "  <tbody>\n",
       "    <tr>\n",
       "      <th>0</th>\n",
       "      <td>One of China’s biggest threats to an American ...</td>\n",
       "      <td>no topic</td>\n",
       "      <td>iran enemies rein technologies stealing intell...</td>\n",
       "    </tr>\n",
       "    <tr>\n",
       "      <th>1</th>\n",
       "      <td>BALTIMORE — The sky was still dark, and the ra...</td>\n",
       "      <td>no topic</td>\n",
       "      <td>256 a kent destin cherry crown lani second lin...</td>\n",
       "    </tr>\n",
       "    <tr>\n",
       "      <th>2</th>\n",
       "      <td>Cecily Koppuzha’s parents were introduced to L...</td>\n",
       "      <td>no topic</td>\n",
       "      <td>port said admit secret lionel invitation stitc...</td>\n",
       "    </tr>\n",
       "    <tr>\n",
       "      <th>3</th>\n",
       "      <td>DULONG, China — The narrow valley is one of th...</td>\n",
       "      <td>no topic</td>\n",
       "      <td>biosphere takin yingchun built runs one roads ...</td>\n",
       "    </tr>\n",
       "    <tr>\n",
       "      <th>4</th>\n",
       "      <td>It was a silent spring for saiga antelopes las...</td>\n",
       "      <td>no topic</td>\n",
       "      <td>anxiously invade bison vegetation possibility ...</td>\n",
       "    </tr>\n",
       "  </tbody>\n",
       "</table>\n",
       "</div>"
      ],
      "text/plain": [
       "                                                text     topic  \\\n",
       "0  One of China’s biggest threats to an American ...  no topic   \n",
       "1  BALTIMORE — The sky was still dark, and the ra...  no topic   \n",
       "2  Cecily Koppuzha’s parents were introduced to L...  no topic   \n",
       "3  DULONG, China — The narrow valley is one of th...  no topic   \n",
       "4  It was a silent spring for saiga antelopes las...  no topic   \n",
       "\n",
       "                                             summary  \n",
       "0  iran enemies rein technologies stealing intell...  \n",
       "1  256 a kent destin cherry crown lani second lin...  \n",
       "2  port said admit secret lionel invitation stitc...  \n",
       "3  biosphere takin yingchun built runs one roads ...  \n",
       "4  anxiously invade bison vegetation possibility ...  "
      ]
     },
     "execution_count": 6,
     "metadata": {},
     "output_type": "execute_result"
    }
   ],
   "source": [
    "#printing summaries\n",
    "df.head()"
   ]
  },
  {
   "cell_type": "code",
   "execution_count": null,
   "metadata": {},
   "outputs": [],
   "source": [
    "from doc2img.generating_images import generate_image"
   ]
  },
  {
   "cell_type": "code",
   "execution_count": null,
   "metadata": {},
   "outputs": [],
   "source": [
    "# #generating and saving images\n",
    "df = generate_image(df[:2], config['prompts'])"
   ]
  },
  {
   "cell_type": "code",
   "execution_count": null,
   "metadata": {},
   "outputs": [
    {
     "ename": "NameError",
     "evalue": "name 'df' is not defined",
     "output_type": "error",
     "traceback": [
      "\u001b[0;31m---------------------------------------------------------------------------\u001b[0m",
      "\u001b[0;31mNameError\u001b[0m                                 Traceback (most recent call last)",
      "Input \u001b[0;32mIn [1]\u001b[0m, in \u001b[0;36m<cell line: 1>\u001b[0;34m()\u001b[0m\n\u001b[0;32m----> 1\u001b[0m \u001b[43mdf\u001b[49m\u001b[38;5;241m.\u001b[39mhead()\n",
      "\u001b[0;31mNameError\u001b[0m: name 'df' is not defined"
     ]
    }
   ],
   "source": [
    "df.head()"
   ]
  },
  {
   "cell_type": "code",
   "execution_count": null,
   "metadata": {},
   "outputs": [
    {
     "data": {
      "text/html": [
       "<div>\n",
       "<style scoped>\n",
       "    .dataframe tbody tr th:only-of-type {\n",
       "        vertical-align: middle;\n",
       "    }\n",
       "\n",
       "    .dataframe tbody tr th {\n",
       "        vertical-align: top;\n",
       "    }\n",
       "\n",
       "    .dataframe thead th {\n",
       "        text-align: right;\n",
       "    }\n",
       "</style>\n",
       "<table border=\"1\" class=\"dataframe\">\n",
       "  <thead>\n",
       "    <tr style=\"text-align: right;\">\n",
       "      <th></th>\n",
       "      <th>text</th>\n",
       "      <th>topic</th>\n",
       "      <th>summary</th>\n",
       "      <th>img_path</th>\n",
       "      <th>clip_scores</th>\n",
       "    </tr>\n",
       "  </thead>\n",
       "  <tbody>\n",
       "    <tr>\n",
       "      <th>3582</th>\n",
       "      <td>America has traded in his Mercedes\\nFor a beat...</td>\n",
       "      <td>interesting_poems</td>\n",
       "      <td>sign america bought ’ standing ”</td>\n",
       "      <td>experiment_1/0.jpg</td>\n",
       "      <td>20.356958</td>\n",
       "    </tr>\n",
       "    <tr>\n",
       "      <th>3583</th>\n",
       "      <td>Look look look\\nIt is spring\\nGreenery and flo...</td>\n",
       "      <td>interesting_poems</td>\n",
       "      <td>lets look greenery oh hose rose</td>\n",
       "      <td>experiment_1/1.jpg</td>\n",
       "      <td>25.225508</td>\n",
       "    </tr>\n",
       "    <tr>\n",
       "      <th>3584</th>\n",
       "      <td>I wrote this blessing to read at my Granddaugh...</td>\n",
       "      <td>interesting_poems</td>\n",
       "      <td>spirit wedding may rachel bless god</td>\n",
       "      <td>experiment_1/2.jpg</td>\n",
       "      <td>24.067461</td>\n",
       "    </tr>\n",
       "    <tr>\n",
       "      <th>3585</th>\n",
       "      <td>(*when a young girl ventures out for her\\nfirs...</td>\n",
       "      <td>interesting_poems</td>\n",
       "      <td>young swimming went girl form class</td>\n",
       "      <td>experiment_1/3.jpg</td>\n",
       "      <td>22.453581</td>\n",
       "    </tr>\n",
       "    <tr>\n",
       "      <th>3586</th>\n",
       "      <td>There was peace\\nbefore there was war\\nthat's ...</td>\n",
       "      <td>interesting_poems</td>\n",
       "      <td>ever refused men hell two war</td>\n",
       "      <td>experiment_1/4.jpg</td>\n",
       "      <td>20.112543</td>\n",
       "    </tr>\n",
       "  </tbody>\n",
       "</table>\n",
       "</div>"
      ],
      "text/plain": [
       "                                                   text              topic  \\\n",
       "3582  America has traded in his Mercedes\\nFor a beat...  interesting_poems   \n",
       "3583  Look look look\\nIt is spring\\nGreenery and flo...  interesting_poems   \n",
       "3584  I wrote this blessing to read at my Granddaugh...  interesting_poems   \n",
       "3585  (*when a young girl ventures out for her\\nfirs...  interesting_poems   \n",
       "3586  There was peace\\nbefore there was war\\nthat's ...  interesting_poems   \n",
       "\n",
       "                                  summary            img_path  clip_scores  \n",
       "3582     sign america bought ’ standing ”  experiment_1/0.jpg    20.356958  \n",
       "3583      lets look greenery oh hose rose  experiment_1/1.jpg    25.225508  \n",
       "3584  spirit wedding may rachel bless god  experiment_1/2.jpg    24.067461  \n",
       "3585  young swimming went girl form class  experiment_1/3.jpg    22.453581  \n",
       "3586        ever refused men hell two war  experiment_1/4.jpg    20.112543  "
      ]
     },
     "execution_count": 7,
     "metadata": {},
     "output_type": "execute_result"
    }
   ],
   "source": [
    "#Computing scores using CLIP (Only first 75 tokens of poems are used)\n",
    "from doc2img.clip_inference import get_pretrained_clip_scores\n",
    "get_pretrained_clip_scores(df)"
   ]
  },
  {
   "cell_type": "code",
   "execution_count": null,
   "metadata": {},
   "outputs": [],
   "source": [
    "save_folder = config['image_generation']['save_folder']\n",
    "# reading images\n",
    "final_index = dataset + \"_\" + str(index) + \"_prompt_0\"\n",
    "save_path_0 = os.path.join(save_folder,str(final_index) +'.jpg')\n",
    "Image0 = cv2.imread(save_path_0)"
   ]
  },
  {
   "cell_type": "code",
   "execution_count": 9,
   "metadata": {},
   "outputs": [],
   "source": [
    "def visualize_images(dataset, index):\n",
    "    # create figure\n",
    "    fig = plt.figure(figsize=(10, 7))\n",
    "    \n",
    "    # Assuming only 4 prompts\n",
    "    rows = 2\n",
    "    columns = 2\n",
    "\n",
    "    save_folder = config['image_generation']['save_folder']\n",
    "    \n",
    "    # reading images\n",
    "    final_index = dataset + \"_\" + str(index) + \"_prompt_0\"\n",
    "    save_path_0 = os.path.join(save_folder,str(final_index) +'.jpg')\n",
    "    Image0 = cv2.imread(save_path_0)\n",
    "\n",
    "    final_index = dataset + \"_\" + str(index) + \"_prompt_1\"\n",
    "    save_path_1 = os.path.join(save_folder,str(final_index) +'.jpg')\n",
    "    Image1 = cv2.imread(save_path_1)\n",
    "\n",
    "    final_index = dataset + \"_\" + str(index) + \"_prompt_2\"\n",
    "    save_path_2 = os.path.join(save_folder,str(final_index) +'.jpg')\n",
    "    Image2 = cv2.imread(save_path_2)\n",
    "\n",
    "    final_index = dataset + \"_\" + str(index) + \"_prompt_3\"\n",
    "    save_path_3 = os.path.join(save_folder,str(final_index) +'.jpg')\n",
    "    Image3 = cv2.imread(save_path_3)\n",
    "\n",
    "    \n",
    "    # Adds a subplot at the 1st position\n",
    "    fig.add_subplot(rows, columns, 1)\n",
    "    \n",
    "    # showing image\n",
    "    plt.imshow(Image0)\n",
    "    plt.axis('off')\n",
    "    plt.title(config['prompts'][0])\n",
    "    \n",
    "    # Adds a subplot at the 2nd position\n",
    "    fig.add_subplot(rows, columns, 2)\n",
    "    \n",
    "    # showing image\n",
    "    plt.imshow(Image1)\n",
    "    plt.axis('off')\n",
    "    plt.title(config['prompts'][1])\n",
    "    \n",
    "    # Adds a subplot at the 3rd position\n",
    "    fig.add_subplot(rows, columns, 3)\n",
    "    \n",
    "    # showing image\n",
    "    plt.imshow(Image2)\n",
    "    plt.axis('off')\n",
    "    plt.title(config['prompts'][2])\n",
    "    \n",
    "    # Adds a subplot at the 4th position\n",
    "    fig.add_subplot(rows, columns, 4)\n",
    "    \n",
    "    # showing image\n",
    "    plt.imshow(Image3)\n",
    "    plt.axis('off')\n",
    "    plt.title(config['prompts'][3])"
   ]
  },
  {
   "cell_type": "code",
   "execution_count": null,
   "metadata": {},
   "outputs": [],
   "source": [
    "visualize_images(\"poems\", 0)"
   ]
  }
 ],
 "metadata": {
  "interpreter": {
   "hash": "31f2aee4e71d21fbe5cf8b01ff0e069b9275f58929596ceb00d14d90e3e16cd6"
  },
  "kernelspec": {
   "display_name": "Python 3.8.9 64-bit",
   "name": "python3"
  },
  "language_info": {
   "codemirror_mode": {
    "name": "ipython",
    "version": 3
   },
   "file_extension": ".py",
   "mimetype": "text/x-python",
   "name": "python",
   "nbconvert_exporter": "python",
   "pygments_lexer": "ipython3",
   "version": "3.7.16"
  }
 },
 "nbformat": 4,
 "nbformat_minor": 5
}
