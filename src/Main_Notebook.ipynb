{
 "cells": [
  {
   "cell_type": "code",
   "execution_count": 1,
   "id": "6fdab06d",
   "metadata": {},
   "outputs": [],
   "source": [
    "%%capture\n",
    "\n",
    "%load_ext autoreload\n",
    "%autoreload 2\n",
    "\n",
    "import pandas as pd\n",
    "import numpy as np\n",
    "from doc2img.dataloader import get_raw_dataset\n",
    "from doc2img.generating_images import generate_image\n",
    "import yaml"
   ]
  },
  {
   "cell_type": "code",
   "execution_count": 2,
   "id": "7bc0ca09",
   "metadata": {},
   "outputs": [],
   "source": [
    "config_file = 'config.yaml'\n",
    "\n",
    "with open(config_file) as cf_file:\n",
    "    config = yaml.safe_load( cf_file.read())"
   ]
  },
  {
   "cell_type": "code",
   "execution_count": 3,
   "id": "e898742e",
   "metadata": {},
   "outputs": [],
   "source": [
    "#reading all poems\n",
    "df = get_raw_dataset(\"poems\",-1)"
   ]
  },
  {
   "cell_type": "code",
   "execution_count": 4,
   "id": "f644ffca",
   "metadata": {},
   "outputs": [
    {
     "data": {
      "text/plain": [
       "'money can be power\\nmany people'"
      ]
     },
     "execution_count": 4,
     "metadata": {},
     "output_type": "execute_result"
    }
   ],
   "source": [
    "poem = df[df.topic == 'money'].iloc[1].text\n",
    "prompt = poem[0:30]\n",
    "prompt"
   ]
  },
  {
   "cell_type": "code",
   "execution_count": null,
   "id": "c67d8e10",
   "metadata": {},
   "outputs": [
    {
     "data": {
      "application/vnd.jupyter.widget-view+json": {
       "model_id": "23ff9fb7606646cd85dabdf8574f6f87",
       "version_major": 2,
       "version_minor": 0
      },
      "text/plain": [
       "  0%|          | 0/25 [00:00<?, ?it/s]"
      ]
     },
     "metadata": {},
     "output_type": "display_data"
    }
   ],
   "source": [
    "generate_image(prompt)"
   ]
  }
 ],
 "metadata": {
  "kernelspec": {
   "display_name": "Python [conda env:pytorch_env]",
   "language": "python",
   "name": "conda-env-pytorch_env-py"
  },
  "language_info": {
   "codemirror_mode": {
    "name": "ipython",
    "version": 3
   },
   "file_extension": ".py",
   "mimetype": "text/x-python",
   "name": "python",
   "nbconvert_exporter": "python",
   "pygments_lexer": "ipython3",
   "version": "3.8.12"
  }
 },
 "nbformat": 4,
 "nbformat_minor": 5
}
