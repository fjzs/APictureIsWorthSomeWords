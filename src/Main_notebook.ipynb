{
 "cells": [
  {
   "cell_type": "code",
   "execution_count": 9,
   "metadata": {},
   "outputs": [],
   "source": [
    "import pandas as pd\n",
    "import numpy as np\n",
    "from doc2img.dataloader import get_raw_dataset\n",
    "# from doc2img.generating_images import generate_image\n",
    "from doc2img.summarization import get_summary\n",
    "import yaml\n",
    "import matplotlib.pyplot as plt"
   ]
  },
  {
   "cell_type": "code",
   "execution_count": 2,
   "metadata": {},
   "outputs": [],
   "source": [
    "config_file = 'config.yaml'\n",
    "\n",
    "with open(config_file) as cf_file:\n",
    "    config = yaml.safe_load( cf_file.read())"
   ]
  },
  {
   "cell_type": "code",
   "execution_count": 3,
   "metadata": {},
   "outputs": [],
   "source": [
    "#reading all poems\n",
    "df = get_raw_dataset(\"poems\",config['max_docs'])"
   ]
  },
  {
   "cell_type": "code",
   "execution_count": 4,
   "metadata": {},
   "outputs": [],
   "source": [
    "#generating summaries\n",
    "df = get_summary(df, config)"
   ]
  },
  {
   "cell_type": "code",
   "execution_count": 6,
   "metadata": {},
   "outputs": [
    {
     "data": {
      "text/html": [
       "<div>\n",
       "<style scoped>\n",
       "    .dataframe tbody tr th:only-of-type {\n",
       "        vertical-align: middle;\n",
       "    }\n",
       "\n",
       "    .dataframe tbody tr th {\n",
       "        vertical-align: top;\n",
       "    }\n",
       "\n",
       "    .dataframe thead th {\n",
       "        text-align: right;\n",
       "    }\n",
       "</style>\n",
       "<table border=\"1\" class=\"dataframe\">\n",
       "  <thead>\n",
       "    <tr style=\"text-align: right;\">\n",
       "      <th></th>\n",
       "      <th>text</th>\n",
       "      <th>topic</th>\n",
       "      <th>summary</th>\n",
       "    </tr>\n",
       "  </thead>\n",
       "  <tbody>\n",
       "    <tr>\n",
       "      <th>0</th>\n",
       "      <td>Sur cette place je m'ennuie,\\nObélisque dépare...</td>\n",
       "      <td>paris</td>\n",
       "      <td>Sur cette place je m'ennuie,. Obélisque dépar...</td>\n",
       "    </tr>\n",
       "    <tr>\n",
       "      <th>1</th>\n",
       "      <td>From all of this I am the only one who leaves....</td>\n",
       "      <td>paris</td>\n",
       "      <td>From all of this I am the only one who leaves...</td>\n",
       "    </tr>\n",
       "    <tr>\n",
       "      <th>2</th>\n",
       "      <td>Paris is still there clutching her river.\\nScu...</td>\n",
       "      <td>paris</td>\n",
       "      <td>Paris is still there clutching her river.. Sc...</td>\n",
       "    </tr>\n",
       "    <tr>\n",
       "      <th>3</th>\n",
       "      <td>Somewhere, always.........\\nA child is born an...</td>\n",
       "      <td>paris</td>\n",
       "      <td>Somewhere, always, always.......... A child i...</td>\n",
       "    </tr>\n",
       "    <tr>\n",
       "      <th>4</th>\n",
       "      <td>Paris, the city of gaiety\\nParis, oh city so b...</td>\n",
       "      <td>paris</td>\n",
       "      <td>We love pretty girls continental. The shine i...</td>\n",
       "    </tr>\n",
       "    <tr>\n",
       "      <th>5</th>\n",
       "      <td>Paris so beautiful at night\\nAnd during the da...</td>\n",
       "      <td>paris</td>\n",
       "      <td>The Eiffel Tower is located in the center of ...</td>\n",
       "    </tr>\n",
       "    <tr>\n",
       "      <th>6</th>\n",
       "      <td>I\\nChins that might serve the new Jerusalem;\\n...</td>\n",
       "      <td>paris</td>\n",
       "      <td>Chins that might serve the new Jerusalem . St...</td>\n",
       "    </tr>\n",
       "    <tr>\n",
       "      <th>7</th>\n",
       "      <td>This Paris Hilton thing makes me sad\\nSo much ...</td>\n",
       "      <td>paris</td>\n",
       "      <td>This Paris Hilton thing makes me sad. So much...</td>\n",
       "    </tr>\n",
       "    <tr>\n",
       "      <th>8</th>\n",
       "      <td>A drought is almost like despair,\\nbut then th...</td>\n",
       "      <td>paris</td>\n",
       "      <td>A drought is almost like despair, but then th...</td>\n",
       "    </tr>\n",
       "    <tr>\n",
       "      <th>9</th>\n",
       "      <td>Je suis un pâle enfant du vieux Paris, et j'ai...</td>\n",
       "      <td>paris</td>\n",
       "      <td>Au pays bleu mon âme en vain se réfugie,. Ell...</td>\n",
       "    </tr>\n",
       "  </tbody>\n",
       "</table>\n",
       "</div>"
      ],
      "text/plain": [
       "                                                text  topic  \\\n",
       "0  Sur cette place je m'ennuie,\\nObélisque dépare...  paris   \n",
       "1  From all of this I am the only one who leaves....  paris   \n",
       "2  Paris is still there clutching her river.\\nScu...  paris   \n",
       "3  Somewhere, always.........\\nA child is born an...  paris   \n",
       "4  Paris, the city of gaiety\\nParis, oh city so b...  paris   \n",
       "5  Paris so beautiful at night\\nAnd during the da...  paris   \n",
       "6  I\\nChins that might serve the new Jerusalem;\\n...  paris   \n",
       "7  This Paris Hilton thing makes me sad\\nSo much ...  paris   \n",
       "8  A drought is almost like despair,\\nbut then th...  paris   \n",
       "9  Je suis un pâle enfant du vieux Paris, et j'ai...  paris   \n",
       "\n",
       "                                             summary  \n",
       "0   Sur cette place je m'ennuie,. Obélisque dépar...  \n",
       "1   From all of this I am the only one who leaves...  \n",
       "2   Paris is still there clutching her river.. Sc...  \n",
       "3   Somewhere, always, always.......... A child i...  \n",
       "4   We love pretty girls continental. The shine i...  \n",
       "5   The Eiffel Tower is located in the center of ...  \n",
       "6   Chins that might serve the new Jerusalem . St...  \n",
       "7   This Paris Hilton thing makes me sad. So much...  \n",
       "8   A drought is almost like despair, but then th...  \n",
       "9   Au pays bleu mon âme en vain se réfugie,. Ell...  "
      ]
     },
     "execution_count": 6,
     "metadata": {},
     "output_type": "execute_result"
    }
   ],
   "source": [
    "df"
   ]
  },
  {
   "cell_type": "code",
   "execution_count": null,
   "metadata": {},
   "outputs": [],
   "source": [
    "# generate_image(df)"
   ]
  }
 ],
 "metadata": {
  "kernelspec": {
   "display_name": "pytorch_env",
   "language": "python",
   "name": "python3"
  },
  "language_info": {
   "codemirror_mode": {
    "name": "ipython",
    "version": 3
   },
   "file_extension": ".py",
   "mimetype": "text/x-python",
   "name": "python",
   "nbconvert_exporter": "python",
   "pygments_lexer": "ipython3",
   "version": "3.8.13"
  },
  "orig_nbformat": 4
 },
 "nbformat": 4,
 "nbformat_minor": 2
}
